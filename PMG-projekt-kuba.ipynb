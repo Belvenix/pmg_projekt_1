{
 "cells": [
  {
   "cell_type": "markdown",
   "id": "specialized-disco",
   "metadata": {
    "slideshow": {
     "slide_type": "slide"
    }
   },
   "source": [
    "# Przewidywanie ilości pyłów w dużych miastach Chin\n",
    "\n",
    "\n"
   ]
  },
  {
   "cell_type": "code",
   "execution_count": 4,
   "id": "basic-radio",
   "metadata": {
    "slideshow": {
     "slide_type": "slide"
    }
   },
   "outputs": [],
   "source": [
    "## Wstęp"
   ]
  },
  {
   "cell_type": "markdown",
   "id": "southwest-league",
   "metadata": {
    "slideshow": {
     "slide_type": "subslide"
    }
   },
   "source": [
    "Notebook zawiera projekt dotyczący przedmiotu probabilistycznych modeli grafowych.\n",
    "\n",
    "Celem projektu jest wykorzystanie w praktyce wiedzy zdobytej w trakcie laboratoriów z tematyki\n",
    "modeli probabilistycznych. Należało wykorzystać minimum jeden prosty model i jeden bardziej złożony.\n",
    "\n",
    "Problemem, który jest w tym projekcie rozwiązywany jest przewidywanie ilości pyłów na podstawie danych atmosferycznych, dacie i lokalizacji.\n",
    "\n",
    "Dane z których będziemy korzystać można znaleźć pod tym adresem [archive-ics](https://archive.ics.uci.edu/ml/datasets/PM2.5+Data+of+Five+Chinese+Cities).\n",
    "\n",
    "Link do artykułu na temat danych [link](https://agupubs.onlinelibrary.wiley.com/doi/full/10.1002/2016JD024877)"
   ]
  },
  {
   "cell_type": "markdown",
   "id": "controversial-factory",
   "metadata": {
    "slideshow": {
     "slide_type": "slide"
    }
   },
   "source": [
    "## Eksploracyjna analiza danych"
   ]
  },
  {
   "cell_type": "markdown",
   "id": "completed-niger",
   "metadata": {
    "slideshow": {
     "slide_type": "subslide"
    }
   },
   "source": [
    "Pierwszym etapem kazdego projektu związanego z analizą danych jest zaimportowanie wymaganych bibliotek i pobranie danych. Zostałe one już pobrane lokalnie do folderu `data`. W związku z tym, że dane są rozbite na pięć plików, kazdy na jedno miasto, zdecydowaliśmy się wybrać jedno z nich - miasto 'Beijing'. "
   ]
  },
  {
   "cell_type": "code",
   "execution_count": 5,
   "id": "cellular-brazilian",
   "metadata": {
    "slideshow": {
     "slide_type": "skip"
    },
    "tags": [
     "hide-input"
    ]
   },
   "outputs": [],
   "source": [
    "import pandas as pd\n",
    "import math\n",
    "from pandas_profiling import ProfileReport\n",
    "\n",
    "from sklearn.preprocessing import StandardScaler, OneHotEncoder\n",
    "import numpy as np\n",
    "\n",
    "import warnings\n",
    "warnings.filterwarnings(\"ignore\")\n",
    "import seaborn as sns, matplotlib.pyplot as plt\n",
    "\n",
    "beijing = pd.read_csv('data/BeijingPM20100101_20151231.csv')"
   ]
  },
  {
   "cell_type": "markdown",
   "id": "adopted-database",
   "metadata": {
    "slideshow": {
     "slide_type": "subslide"
    }
   },
   "source": [
    "Co jest istotne w zbiorze to fakt, iż pomimo, że jest to jedno miasto, pyły były pobierane z kilku miejsc w mieście. Lokalizacje tych punktów z czujnikami można zobaczyc na poniższym obrazku. \n",
    "\n",
    "Zbiór danych oryginalnie posiadał **52584 rekordów** oraz **18 zmiennych**.\n",
    "\n",
    "Po wstępnym przetwarzaniu danych, pozostało **19062 rekordów** oraz **14 cech**."
   ]
  },
  {
   "cell_type": "markdown",
   "id": "duplicate-description",
   "metadata": {
    "slideshow": {
     "slide_type": "subslide"
    }
   },
   "source": [
    "| ![mapa lokalizacji czujników w poszczególnych miastach](./results/chiny-minimapa.jpg) | \n",
    "|:--:| \n",
    "| *Mapa lokalizacji czujników w poszczególnych miastach Chińskich*|"
   ]
  },
  {
   "cell_type": "markdown",
   "id": "frank-tactics",
   "metadata": {
    "slideshow": {
     "slide_type": "subslide"
    }
   },
   "source": [
    "Tutaj należałoby przytoczyć co oznacza każda ze zmiennych i jakiego jest ona typu. Ponadto w tabeli podano operacje jakim zostały poddane w trakcie preprocessingu.\n",
    "\n",
    " | Nazwa kolumny | Typ zmiennej | Opis zmiennej | Operacja |\n",
    " | --- | --- | --- | --- |\n",
    " |`No`| brak | numer wiersza | Usunięcie |\n",
    " | `year`| kategoryczna | rok zebrania próbki | Wybrana do modelu |\n",
    " | `month`| kategoryczna | miesiąc zebrania próbki | Wybrana do modelu |\n",
    " | `day`| kategoryczna | dzień zebrania próbki | Usunięcie |\n",
    " | `hour`| kategoryczna | godzina danych w tym wierszu | Wybrana do modelu |\n",
    " | `season`| kategoryczna | sezon danych w tym wierszu | Usunięta |\n",
    " | `PM_Dongsi`| ciągła / predykowana | stężenie PM2,5 (ug / m ^ 3) wykryta w czujniku w lokalizacji Dongsi | Usuwanie pustych wartości i wybrana do modelu |\n",
    " | `PM_Dongsihuan`| ciągła / predykowana | stężenie PM2,5 (ug / m ^ 3) wykryta w czujniku w lokalizacji Dongsihuan | Usuwanie pustych wartości i wybrana do modelu|\n",
    " | `PM_Nongzhanguan`| ciągła / predykowana | stężenie PM2,5 (ug / m ^ 3) wykryta w czujniku w lokalizacji Nongzhanguan | Usuwanie pustych wartości i wybrana do modelu|\n",
    " | `PM_US Post`| ciągła / predykowana | stężenie PM2,5 (ug / m ^ 3) wykryta w czujniku w ambasadzie Stanów Zjednoczonych  | Usuwanie pustych wartości i wybrana do modelu|\n",
    " | `DEWP`| ciągła | punkt rosy (stopnie Celsjusza) | Standaryzacja i wybrana do modelu|\n",
    " | `HUMI`| ciągła | wilgotność (%) | Standaryzacja i wybrana do modelu |\n",
    " | `PRES`| ciągła | ciśnienie (hPa) | Standaryzacja i wybrana do modelu |\n",
    " | `TEMP`| ciągła | temperatura (stopnie Celsjusza) | Standaryzacja i wybrana do modelu|\n",
    " | `cbwd`| kategoryczna | Połączony kierunek wiatru | Wybrana do modelu |\n",
    " | `Iws`| ciągła | skumulowana prędkość wiatru (m / s) | Standaryzacja i wybrana do modelu |\n",
    " | `precipitation`| ciągła | opad godzinowy (mm) | Usunięta |\n",
    " | `Iprec`| ciągła | skumulowany opad (mm) | Standaryzacja i wybrana do modelu |"
   ]
  },
  {
   "cell_type": "markdown",
   "id": "third-joint",
   "metadata": {},
   "source": [
    "Teraz należałoby spojrzec co właściwe jest w tych danych. Do tego zostały zastosowane metody `head` i `tail`"
   ]
  },
  {
   "cell_type": "code",
   "execution_count": 6,
   "id": "subtle-treasury",
   "metadata": {
    "slideshow": {
     "slide_type": "subslide"
    }
   },
   "outputs": [
    {
     "data": {
      "text/html": [
       "<div>\n",
       "<style scoped>\n",
       "    .dataframe tbody tr th:only-of-type {\n",
       "        vertical-align: middle;\n",
       "    }\n",
       "\n",
       "    .dataframe tbody tr th {\n",
       "        vertical-align: top;\n",
       "    }\n",
       "\n",
       "    .dataframe thead th {\n",
       "        text-align: right;\n",
       "    }\n",
       "</style>\n",
       "<table border=\"1\" class=\"dataframe\">\n",
       "  <thead>\n",
       "    <tr style=\"text-align: right;\">\n",
       "      <th></th>\n",
       "      <th>No</th>\n",
       "      <th>year</th>\n",
       "      <th>month</th>\n",
       "      <th>day</th>\n",
       "      <th>hour</th>\n",
       "      <th>season</th>\n",
       "      <th>PM_Dongsi</th>\n",
       "      <th>PM_Dongsihuan</th>\n",
       "      <th>PM_Nongzhanguan</th>\n",
       "      <th>PM_US Post</th>\n",
       "      <th>DEWP</th>\n",
       "      <th>HUMI</th>\n",
       "      <th>PRES</th>\n",
       "      <th>TEMP</th>\n",
       "      <th>cbwd</th>\n",
       "      <th>Iws</th>\n",
       "      <th>precipitation</th>\n",
       "      <th>Iprec</th>\n",
       "    </tr>\n",
       "  </thead>\n",
       "  <tbody>\n",
       "    <tr>\n",
       "      <th>0</th>\n",
       "      <td>1</td>\n",
       "      <td>2010</td>\n",
       "      <td>1</td>\n",
       "      <td>1</td>\n",
       "      <td>0</td>\n",
       "      <td>4</td>\n",
       "      <td>NaN</td>\n",
       "      <td>NaN</td>\n",
       "      <td>NaN</td>\n",
       "      <td>NaN</td>\n",
       "      <td>-21.0</td>\n",
       "      <td>43.0</td>\n",
       "      <td>1021.0</td>\n",
       "      <td>-11.0</td>\n",
       "      <td>NW</td>\n",
       "      <td>1.79</td>\n",
       "      <td>0.0</td>\n",
       "      <td>0.0</td>\n",
       "    </tr>\n",
       "    <tr>\n",
       "      <th>1</th>\n",
       "      <td>2</td>\n",
       "      <td>2010</td>\n",
       "      <td>1</td>\n",
       "      <td>1</td>\n",
       "      <td>1</td>\n",
       "      <td>4</td>\n",
       "      <td>NaN</td>\n",
       "      <td>NaN</td>\n",
       "      <td>NaN</td>\n",
       "      <td>NaN</td>\n",
       "      <td>-21.0</td>\n",
       "      <td>47.0</td>\n",
       "      <td>1020.0</td>\n",
       "      <td>-12.0</td>\n",
       "      <td>NW</td>\n",
       "      <td>4.92</td>\n",
       "      <td>0.0</td>\n",
       "      <td>0.0</td>\n",
       "    </tr>\n",
       "    <tr>\n",
       "      <th>2</th>\n",
       "      <td>3</td>\n",
       "      <td>2010</td>\n",
       "      <td>1</td>\n",
       "      <td>1</td>\n",
       "      <td>2</td>\n",
       "      <td>4</td>\n",
       "      <td>NaN</td>\n",
       "      <td>NaN</td>\n",
       "      <td>NaN</td>\n",
       "      <td>NaN</td>\n",
       "      <td>-21.0</td>\n",
       "      <td>43.0</td>\n",
       "      <td>1019.0</td>\n",
       "      <td>-11.0</td>\n",
       "      <td>NW</td>\n",
       "      <td>6.71</td>\n",
       "      <td>0.0</td>\n",
       "      <td>0.0</td>\n",
       "    </tr>\n",
       "    <tr>\n",
       "      <th>3</th>\n",
       "      <td>4</td>\n",
       "      <td>2010</td>\n",
       "      <td>1</td>\n",
       "      <td>1</td>\n",
       "      <td>3</td>\n",
       "      <td>4</td>\n",
       "      <td>NaN</td>\n",
       "      <td>NaN</td>\n",
       "      <td>NaN</td>\n",
       "      <td>NaN</td>\n",
       "      <td>-21.0</td>\n",
       "      <td>55.0</td>\n",
       "      <td>1019.0</td>\n",
       "      <td>-14.0</td>\n",
       "      <td>NW</td>\n",
       "      <td>9.84</td>\n",
       "      <td>0.0</td>\n",
       "      <td>0.0</td>\n",
       "    </tr>\n",
       "    <tr>\n",
       "      <th>4</th>\n",
       "      <td>5</td>\n",
       "      <td>2010</td>\n",
       "      <td>1</td>\n",
       "      <td>1</td>\n",
       "      <td>4</td>\n",
       "      <td>4</td>\n",
       "      <td>NaN</td>\n",
       "      <td>NaN</td>\n",
       "      <td>NaN</td>\n",
       "      <td>NaN</td>\n",
       "      <td>-20.0</td>\n",
       "      <td>51.0</td>\n",
       "      <td>1018.0</td>\n",
       "      <td>-12.0</td>\n",
       "      <td>NW</td>\n",
       "      <td>12.97</td>\n",
       "      <td>0.0</td>\n",
       "      <td>0.0</td>\n",
       "    </tr>\n",
       "  </tbody>\n",
       "</table>\n",
       "</div>"
      ],
      "text/plain": [
       "   No  year  month  day  hour  season  PM_Dongsi  PM_Dongsihuan  \\\n",
       "0   1  2010      1    1     0       4        NaN            NaN   \n",
       "1   2  2010      1    1     1       4        NaN            NaN   \n",
       "2   3  2010      1    1     2       4        NaN            NaN   \n",
       "3   4  2010      1    1     3       4        NaN            NaN   \n",
       "4   5  2010      1    1     4       4        NaN            NaN   \n",
       "\n",
       "   PM_Nongzhanguan  PM_US Post  DEWP  HUMI    PRES  TEMP cbwd    Iws  \\\n",
       "0              NaN         NaN -21.0  43.0  1021.0 -11.0   NW   1.79   \n",
       "1              NaN         NaN -21.0  47.0  1020.0 -12.0   NW   4.92   \n",
       "2              NaN         NaN -21.0  43.0  1019.0 -11.0   NW   6.71   \n",
       "3              NaN         NaN -21.0  55.0  1019.0 -14.0   NW   9.84   \n",
       "4              NaN         NaN -20.0  51.0  1018.0 -12.0   NW  12.97   \n",
       "\n",
       "   precipitation  Iprec  \n",
       "0            0.0    0.0  \n",
       "1            0.0    0.0  \n",
       "2            0.0    0.0  \n",
       "3            0.0    0.0  \n",
       "4            0.0    0.0  "
      ]
     },
     "execution_count": 6,
     "metadata": {},
     "output_type": "execute_result"
    }
   ],
   "source": [
    "beijing.head()"
   ]
  },
  {
   "cell_type": "code",
   "execution_count": 7,
   "id": "regulated-accuracy",
   "metadata": {
    "slideshow": {
     "slide_type": "slide"
    }
   },
   "outputs": [
    {
     "data": {
      "text/html": [
       "<div>\n",
       "<style scoped>\n",
       "    .dataframe tbody tr th:only-of-type {\n",
       "        vertical-align: middle;\n",
       "    }\n",
       "\n",
       "    .dataframe tbody tr th {\n",
       "        vertical-align: top;\n",
       "    }\n",
       "\n",
       "    .dataframe thead th {\n",
       "        text-align: right;\n",
       "    }\n",
       "</style>\n",
       "<table border=\"1\" class=\"dataframe\">\n",
       "  <thead>\n",
       "    <tr style=\"text-align: right;\">\n",
       "      <th></th>\n",
       "      <th>No</th>\n",
       "      <th>year</th>\n",
       "      <th>month</th>\n",
       "      <th>day</th>\n",
       "      <th>hour</th>\n",
       "      <th>season</th>\n",
       "      <th>PM_Dongsi</th>\n",
       "      <th>PM_Dongsihuan</th>\n",
       "      <th>PM_Nongzhanguan</th>\n",
       "      <th>PM_US Post</th>\n",
       "      <th>DEWP</th>\n",
       "      <th>HUMI</th>\n",
       "      <th>PRES</th>\n",
       "      <th>TEMP</th>\n",
       "      <th>cbwd</th>\n",
       "      <th>Iws</th>\n",
       "      <th>precipitation</th>\n",
       "      <th>Iprec</th>\n",
       "    </tr>\n",
       "  </thead>\n",
       "  <tbody>\n",
       "    <tr>\n",
       "      <th>52579</th>\n",
       "      <td>52580</td>\n",
       "      <td>2015</td>\n",
       "      <td>12</td>\n",
       "      <td>31</td>\n",
       "      <td>19</td>\n",
       "      <td>4</td>\n",
       "      <td>140.0</td>\n",
       "      <td>157.0</td>\n",
       "      <td>122.0</td>\n",
       "      <td>133.0</td>\n",
       "      <td>-8.0</td>\n",
       "      <td>68.0</td>\n",
       "      <td>1031.0</td>\n",
       "      <td>-3.0</td>\n",
       "      <td>SE</td>\n",
       "      <td>7.14</td>\n",
       "      <td>0.0</td>\n",
       "      <td>0.0</td>\n",
       "    </tr>\n",
       "    <tr>\n",
       "      <th>52580</th>\n",
       "      <td>52581</td>\n",
       "      <td>2015</td>\n",
       "      <td>12</td>\n",
       "      <td>31</td>\n",
       "      <td>20</td>\n",
       "      <td>4</td>\n",
       "      <td>157.0</td>\n",
       "      <td>199.0</td>\n",
       "      <td>149.0</td>\n",
       "      <td>169.0</td>\n",
       "      <td>-8.0</td>\n",
       "      <td>63.0</td>\n",
       "      <td>1030.0</td>\n",
       "      <td>-2.0</td>\n",
       "      <td>SE</td>\n",
       "      <td>8.03</td>\n",
       "      <td>0.0</td>\n",
       "      <td>0.0</td>\n",
       "    </tr>\n",
       "    <tr>\n",
       "      <th>52581</th>\n",
       "      <td>52582</td>\n",
       "      <td>2015</td>\n",
       "      <td>12</td>\n",
       "      <td>31</td>\n",
       "      <td>21</td>\n",
       "      <td>4</td>\n",
       "      <td>171.0</td>\n",
       "      <td>231.0</td>\n",
       "      <td>196.0</td>\n",
       "      <td>203.0</td>\n",
       "      <td>-10.0</td>\n",
       "      <td>73.0</td>\n",
       "      <td>1030.0</td>\n",
       "      <td>-6.0</td>\n",
       "      <td>NE</td>\n",
       "      <td>0.89</td>\n",
       "      <td>0.0</td>\n",
       "      <td>0.0</td>\n",
       "    </tr>\n",
       "    <tr>\n",
       "      <th>52582</th>\n",
       "      <td>52583</td>\n",
       "      <td>2015</td>\n",
       "      <td>12</td>\n",
       "      <td>31</td>\n",
       "      <td>22</td>\n",
       "      <td>4</td>\n",
       "      <td>204.0</td>\n",
       "      <td>242.0</td>\n",
       "      <td>221.0</td>\n",
       "      <td>212.0</td>\n",
       "      <td>-10.0</td>\n",
       "      <td>73.0</td>\n",
       "      <td>1030.0</td>\n",
       "      <td>-6.0</td>\n",
       "      <td>NE</td>\n",
       "      <td>1.78</td>\n",
       "      <td>0.0</td>\n",
       "      <td>0.0</td>\n",
       "    </tr>\n",
       "    <tr>\n",
       "      <th>52583</th>\n",
       "      <td>52584</td>\n",
       "      <td>2015</td>\n",
       "      <td>12</td>\n",
       "      <td>31</td>\n",
       "      <td>23</td>\n",
       "      <td>4</td>\n",
       "      <td>NaN</td>\n",
       "      <td>NaN</td>\n",
       "      <td>NaN</td>\n",
       "      <td>235.0</td>\n",
       "      <td>-9.0</td>\n",
       "      <td>79.0</td>\n",
       "      <td>1029.0</td>\n",
       "      <td>-6.0</td>\n",
       "      <td>NE</td>\n",
       "      <td>2.67</td>\n",
       "      <td>0.0</td>\n",
       "      <td>0.0</td>\n",
       "    </tr>\n",
       "  </tbody>\n",
       "</table>\n",
       "</div>"
      ],
      "text/plain": [
       "          No  year  month  day  hour  season  PM_Dongsi  PM_Dongsihuan  \\\n",
       "52579  52580  2015     12   31    19       4      140.0          157.0   \n",
       "52580  52581  2015     12   31    20       4      157.0          199.0   \n",
       "52581  52582  2015     12   31    21       4      171.0          231.0   \n",
       "52582  52583  2015     12   31    22       4      204.0          242.0   \n",
       "52583  52584  2015     12   31    23       4        NaN            NaN   \n",
       "\n",
       "       PM_Nongzhanguan  PM_US Post  DEWP  HUMI    PRES  TEMP cbwd   Iws  \\\n",
       "52579            122.0       133.0  -8.0  68.0  1031.0  -3.0   SE  7.14   \n",
       "52580            149.0       169.0  -8.0  63.0  1030.0  -2.0   SE  8.03   \n",
       "52581            196.0       203.0 -10.0  73.0  1030.0  -6.0   NE  0.89   \n",
       "52582            221.0       212.0 -10.0  73.0  1030.0  -6.0   NE  1.78   \n",
       "52583              NaN       235.0  -9.0  79.0  1029.0  -6.0   NE  2.67   \n",
       "\n",
       "       precipitation  Iprec  \n",
       "52579            0.0    0.0  \n",
       "52580            0.0    0.0  \n",
       "52581            0.0    0.0  \n",
       "52582            0.0    0.0  \n",
       "52583            0.0    0.0  "
      ]
     },
     "execution_count": 7,
     "metadata": {},
     "output_type": "execute_result"
    }
   ],
   "source": [
    "beijing.tail()"
   ]
  },
  {
   "cell_type": "markdown",
   "id": "explicit-stick",
   "metadata": {
    "slideshow": {
     "slide_type": "slide"
    }
   },
   "source": [
    "Następnie, został dokonany preprocessing danych. Operacje, które zastosowaliśmy na tym zbiorze danych to:\n",
    "* usunięte kolumny z których nie będziemy korzystać w zaproponowanych modelach, innymi słowy selekcja danych,\n",
    "* usunięcie wierszy z pustymi wartości.\n",
    "\n",
    "Dodatkowo zdefiniowaliśmy listy zmiennych kategorycznych i ciągłych, które przydadzą się do kolejnych funkcji\n"
   ]
  },
  {
   "cell_type": "code",
   "execution_count": 8,
   "id": "collect-aerospace",
   "metadata": {
    "slideshow": {
     "slide_type": "skip"
    }
   },
   "outputs": [],
   "source": [
    "beijing_dropped_columns = beijing.drop(['No', 'day', 'precipitation', 'season'], axis=1)\n",
    "beijing_after_preprocessing = beijing_dropped_columns.dropna()\n",
    "\n",
    "categorical = ['year','month','hour','cbwd']\n",
    "\n",
    "continuous = ['PM_Dongsi', 'PM_Dongsihuan', 'PM_Nongzhanguan',\n",
    "              'PM_US Post', 'DEWP', 'HUMI', 'PRES', 'TEMP', 'Iws', 'Iprec']"
   ]
  },
  {
   "cell_type": "markdown",
   "id": "statewide-chrome",
   "metadata": {
    "slideshow": {
     "slide_type": "slide"
    }
   },
   "source": [
    "### Dystrybucja, typ i zakres danych"
   ]
  },
  {
   "cell_type": "markdown",
   "id": "alternative-russia",
   "metadata": {
    "slideshow": {
     "slide_type": "subslide"
    }
   },
   "source": [
    "Poniżej zostały wyświetlone wykresy dystrybucji danych oraz dane statystyczne w formie tabelki."
   ]
  },
  {
   "cell_type": "code",
   "execution_count": 9,
   "id": "underlying-parent",
   "metadata": {
    "slideshow": {
     "slide_type": "-"
    }
   },
   "outputs": [
    {
     "data": {
      "image/png": "[encoded data removed]",
      "text/plain": [
       "<Figure size 1440x360 with 3 Axes>"
      ]
     },
     "metadata": {
      "needs_background": "light"
     },
     "output_type": "display_data"
    },
    {
     "data": {
      "image/png": "[encoded data removed]",
      "text/plain": [
       "<Figure size 1440x360 with 3 Axes>"
      ]
     },
     "metadata": {
      "needs_background": "light"
     },
     "output_type": "display_data"
    }
   ],
   "source": [
    "plot_distribution(beijing_after_preprocessing, continuous, categorical, rows = (0,2))"
   ]
  },
  {
   "cell_type": "code",
   "execution_count": 10,
   "id": "suited-disaster",
   "metadata": {
    "slideshow": {
     "slide_type": "subslide"
    }
   },
   "outputs": [
    {
     "data": {
      "image/png": "[encoded data removed]",
      "text/plain": [
       "<Figure size 1440x360 with 3 Axes>"
      ]
     },
     "metadata": {
      "needs_background": "light"
     },
     "output_type": "display_data"
    },
    {
     "data": {
      "image/png": "[encoded data removed]",
      "text/plain": [
       "<Figure size 1440x360 with 3 Axes>"
      ]
     },
     "metadata": {
      "needs_background": "light"
     },
     "output_type": "display_data"
    }
   ],
   "source": [
    "plot_distribution(beijing_after_preprocessing, continuous, categorical, rows = (2,4))"
   ]
  },
  {
   "cell_type": "code",
   "execution_count": 11,
   "id": "international-cleanup",
   "metadata": {
    "slideshow": {
     "slide_type": "subslide"
    }
   },
   "outputs": [
    {
     "data": {
      "image/png": "[encoded data removed]",
      "text/plain": [
       "<Figure size 1440x360 with 3 Axes>"
      ]
     },
     "metadata": {
      "needs_background": "light"
     },
     "output_type": "display_data"
    }
   ],
   "source": [
    "plot_distribution(beijing_after_preprocessing, continuous, categorical, rows = (4,6))"
   ]
  },
  {
   "cell_type": "code",
   "execution_count": 12,
   "id": "smooth-radical",
   "metadata": {
    "scrolled": true,
    "slideshow": {
     "slide_type": "subslide"
    }
   },
   "outputs": [
    {
     "data": {
      "text/html": [
       "<div>\n",
       "<style scoped>\n",
       "    .dataframe tbody tr th:only-of-type {\n",
       "        vertical-align: middle;\n",
       "    }\n",
       "\n",
       "    .dataframe tbody tr th {\n",
       "        vertical-align: top;\n",
       "    }\n",
       "\n",
       "    .dataframe thead th {\n",
       "        text-align: right;\n",
       "    }\n",
       "</style>\n",
       "<table border=\"1\" class=\"dataframe\">\n",
       "  <thead>\n",
       "    <tr style=\"text-align: right;\">\n",
       "      <th></th>\n",
       "      <th>PM_Dongsi</th>\n",
       "      <th>PM_Dongsihuan</th>\n",
       "      <th>PM_Nongzhanguan</th>\n",
       "      <th>PM_US Post</th>\n",
       "      <th>DEWP</th>\n",
       "      <th>HUMI</th>\n",
       "      <th>PRES</th>\n",
       "      <th>TEMP</th>\n",
       "      <th>Iws</th>\n",
       "      <th>Iprec</th>\n",
       "    </tr>\n",
       "  </thead>\n",
       "  <tbody>\n",
       "    <tr>\n",
       "      <th>count</th>\n",
       "      <td>19062.0000</td>\n",
       "      <td>19062.0000</td>\n",
       "      <td>19062.0000</td>\n",
       "      <td>19062.0000</td>\n",
       "      <td>19062.0000</td>\n",
       "      <td>19062.0000</td>\n",
       "      <td>19062.0000</td>\n",
       "      <td>19062.0000</td>\n",
       "      <td>19062.0000</td>\n",
       "      <td>19062.0000</td>\n",
       "    </tr>\n",
       "    <tr>\n",
       "      <th>mean</th>\n",
       "      <td>86.6273</td>\n",
       "      <td>92.2640</td>\n",
       "      <td>85.6595</td>\n",
       "      <td>90.0997</td>\n",
       "      <td>2.3619</td>\n",
       "      <td>51.3623</td>\n",
       "      <td>1015.3520</td>\n",
       "      <td>14.0629</td>\n",
       "      <td>21.0200</td>\n",
       "      <td>0.2158</td>\n",
       "    </tr>\n",
       "    <tr>\n",
       "      <th>std</th>\n",
       "      <td>82.9534</td>\n",
       "      <td>87.7066</td>\n",
       "      <td>83.5106</td>\n",
       "      <td>86.1516</td>\n",
       "      <td>14.2667</td>\n",
       "      <td>25.5207</td>\n",
       "      <td>10.2145</td>\n",
       "      <td>11.5275</td>\n",
       "      <td>46.3905</td>\n",
       "      <td>2.1495</td>\n",
       "    </tr>\n",
       "    <tr>\n",
       "      <th>min</th>\n",
       "      <td>3.0000</td>\n",
       "      <td>3.0000</td>\n",
       "      <td>3.0000</td>\n",
       "      <td>2.0000</td>\n",
       "      <td>-40.0000</td>\n",
       "      <td>2.0000</td>\n",
       "      <td>991.0000</td>\n",
       "      <td>-12.0000</td>\n",
       "      <td>0.4500</td>\n",
       "      <td>0.0000</td>\n",
       "    </tr>\n",
       "    <tr>\n",
       "      <th>25%</th>\n",
       "      <td>25.0000</td>\n",
       "      <td>28.0000</td>\n",
       "      <td>25.0000</td>\n",
       "      <td>27.0000</td>\n",
       "      <td>-10.0000</td>\n",
       "      <td>29.0000</td>\n",
       "      <td>1007.0000</td>\n",
       "      <td>4.0000</td>\n",
       "      <td>1.7900</td>\n",
       "      <td>0.0000</td>\n",
       "    </tr>\n",
       "    <tr>\n",
       "      <th>50%</th>\n",
       "      <td>64.0000</td>\n",
       "      <td>68.0000</td>\n",
       "      <td>62.0000</td>\n",
       "      <td>66.0000</td>\n",
       "      <td>3.0000</td>\n",
       "      <td>52.0000</td>\n",
       "      <td>1015.0000</td>\n",
       "      <td>15.0000</td>\n",
       "      <td>4.9200</td>\n",
       "      <td>0.0000</td>\n",
       "    </tr>\n",
       "    <tr>\n",
       "      <th>75%</th>\n",
       "      <td>121.0000</td>\n",
       "      <td>128.0000</td>\n",
       "      <td>117.0000</td>\n",
       "      <td>122.0000</td>\n",
       "      <td>16.0000</td>\n",
       "      <td>73.0000</td>\n",
       "      <td>1023.0000</td>\n",
       "      <td>24.0000</td>\n",
       "      <td>19.6700</td>\n",
       "      <td>0.0000</td>\n",
       "    </tr>\n",
       "    <tr>\n",
       "      <th>max</th>\n",
       "      <td>737.0000</td>\n",
       "      <td>672.0000</td>\n",
       "      <td>844.0000</td>\n",
       "      <td>722.0000</td>\n",
       "      <td>26.0000</td>\n",
       "      <td>100.0000</td>\n",
       "      <td>1041.0000</td>\n",
       "      <td>40.0000</td>\n",
       "      <td>490.3800</td>\n",
       "      <td>51.1000</td>\n",
       "    </tr>\n",
       "  </tbody>\n",
       "</table>\n",
       "</div>"
      ],
      "text/plain": [
       "        PM_Dongsi  PM_Dongsihuan  PM_Nongzhanguan  PM_US Post        DEWP  \\\n",
       "count  19062.0000     19062.0000       19062.0000  19062.0000  19062.0000   \n",
       "mean      86.6273        92.2640          85.6595     90.0997      2.3619   \n",
       "std       82.9534        87.7066          83.5106     86.1516     14.2667   \n",
       "min        3.0000         3.0000           3.0000      2.0000    -40.0000   \n",
       "25%       25.0000        28.0000          25.0000     27.0000    -10.0000   \n",
       "50%       64.0000        68.0000          62.0000     66.0000      3.0000   \n",
       "75%      121.0000       128.0000         117.0000    122.0000     16.0000   \n",
       "max      737.0000       672.0000         844.0000    722.0000     26.0000   \n",
       "\n",
       "             HUMI        PRES        TEMP         Iws       Iprec  \n",
       "count  19062.0000  19062.0000  19062.0000  19062.0000  19062.0000  \n",
       "mean      51.3623   1015.3520     14.0629     21.0200      0.2158  \n",
       "std       25.5207     10.2145     11.5275     46.3905      2.1495  \n",
       "min        2.0000    991.0000    -12.0000      0.4500      0.0000  \n",
       "25%       29.0000   1007.0000      4.0000      1.7900      0.0000  \n",
       "50%       52.0000   1015.0000     15.0000      4.9200      0.0000  \n",
       "75%       73.0000   1023.0000     24.0000     19.6700      0.0000  \n",
       "max      100.0000   1041.0000     40.0000    490.3800     51.1000  "
      ]
     },
     "execution_count": 12,
     "metadata": {},
     "output_type": "execute_result"
    }
   ],
   "source": [
    "beijing_after_preprocessing[continuous].describe().round(4)"
   ]
  },
  {
   "cell_type": "markdown",
   "id": "fallen-cooler",
   "metadata": {
    "slideshow": {
     "slide_type": "slide"
    }
   },
   "source": [
    " | Nazwa kolumny | Typ zmiennej | Opis rozkładu |\n",
    " | --- | --- | --- |\n",
    " | `year`| kategoryczna | Najwięcej obserwacji posiadamy z roku 2014, nastepnie w kolejności jest 2013, a najmniej obserwacji jest z 2015 roku. |\n",
    " | `month`| kategoryczna | Jeżeli chodzi o rozkład miesięcy jest on sezonowy - w lato jest najwiecej obserwacji natomiast w jesien i przełow zimy z wiosna jest ich najmniej |\n",
    " | `hour`| kategoryczna | Rokład danych jest równowmierny | \n",
    " | `PM_X`| ciągłe / predykowane | Zakres danych to *(2, 844)* ze średnia na poziomie około 89. Zbiory są mocno przekrzywiony w lewą stroną (right skewness) oraz posiadają bardzo wysoką wariancję. Mediana zmiennej leży na poziomie 65. Również, można zauważyć, że ta zmienna posiada dużo wartości odstających spowodowanych dystrybucja tych danych. |\n",
    " | `DEWP`| ciągła | Zakres danych to *(-40, 26)*, dystrybucja przypomina normalną z dwoma modami - jedna na poziomie *-10*, a druga na poziomie *18*. |\n",
    " | `HUMI`| ciągła | Zakres danych to *(2, 100)*, dystrybucja jest równomierna w głównym zakresie, natomiast na brzegach jest ona zmniejszona. |\n",
    " | `PRES`| ciągła | Zakres danych to *(991, 1041)*, dystrybucja jest lekko przekrzywiona w lewa strona z modą na wartosci *64*. |\n",
    " | `TEMP`| ciągła | Zakres danych to *(-12, 40)*, przypomina miksture dwoch rozkladow normalnych z modami na poziomach *0* i *20* |\n",
    " | `cbwd`| kategoryczna | Najczęstszym wiatrem jest wiatr *SE*, natomiast najrzadszym jest *NE*. |\n",
    " | `Iws`| ciągła | Zakres danych to *(0.45, 490.38)* i jest ekstremalnie przekrzywiony w lewą strone (extreme right skewness), co może znacząco wpłynąc na korzyść z wykorzystana tej zmiennej |\n",
    " | `Iprec`| ciągła | Zakres danych to *(0, 51.1)* i również jest ekstremalnie przekrzywiony w lewą strone (extreme right skewness), co może znacząco wpłynąc na korzyść z wykorzystana tej zmiennej |"
   ]
  },
  {
   "cell_type": "markdown",
   "id": "minute-worst",
   "metadata": {
    "slideshow": {
     "slide_type": "slide"
    }
   },
   "source": [
    "### Obserwacje odstające"
   ]
  },
  {
   "cell_type": "code",
   "execution_count": 13,
   "id": "structured-accent",
   "metadata": {
    "slideshow": {
     "slide_type": "subslide"
    }
   },
   "outputs": [
    {
     "data": {
      "image/png": "[encoded data removed]",
      "text/plain": [
       "<Figure size 1080x720 with 1 Axes>"
      ]
     },
     "metadata": {
      "needs_background": "light"
     },
     "output_type": "display_data"
    }
   ],
   "source": [
    "plot_outliers(beijing_after_preprocessing, continuous)"
   ]
  },
  {
   "cell_type": "markdown",
   "id": "hollywood-zimbabwe",
   "metadata": {
    "slideshow": {
     "slide_type": "subslide"
    }
   },
   "source": [
    "Powyżej można zauważyć, ze tak jak w analizie zmiennych i dystrybucji dane dotyczące pyłów, skumulowanego deszczu oraz sumy deszczu posiadają bardzo dużą ilość wartości odstających per mediana. Ale finalnie uznaliśmy, że zostaną one wszystkie znormalizowane w taki sposób, żeby poprawić ich dystrybucje. \n",
    "\n",
    "Na zmiennych posiadające bardzo przekrzywione dystrybucje została zastosowana transformacja logarytmiczna, gdyż jest ona wskazana dla tego typu danych. Ponadto na wszystkich danych została użyta normalizacja standardowa tj. odjecie średniej i podzielenie przez odchylenie standardowe."
   ]
  },
  {
   "cell_type": "code",
   "execution_count": 14,
   "id": "affiliated-preference",
   "metadata": {
    "slideshow": {
     "slide_type": "fragment"
    }
   },
   "outputs": [
    {
     "data": {
      "image/png": "[encoded data removed]",
      "text/plain": [
       "<Figure size 1080x720 with 1 Axes>"
      ]
     },
     "metadata": {
      "needs_background": "light"
     },
     "output_type": "display_data"
    }
   ],
   "source": [
    "non_problematic_continuous = [ 'DEWP', 'HUMI', 'PRES', 'TEMP']\n",
    "\n",
    "problematic_continuous = ['PM_Dongsi', 'PM_Dongsihuan', 'PM_Nongzhanguan',\n",
    "              'PM_US Post', 'Iws', 'Iprec']\n",
    "\n",
    "transformer = StandardScaler()\n",
    "beijing_after_scaling_pc = np.log(beijing_after_preprocessing[problematic_continuous] + 1)\n",
    "beijing_after_scaling_pc = pd.DataFrame(\n",
    "    transformer.fit_transform(beijing_after_scaling_pc),\n",
    "    columns = problematic_continuous\n",
    ")\n",
    "\n",
    "transformer = StandardScaler()\n",
    "beijing_after_scaling_npc = pd.DataFrame(\n",
    "    transformer.fit_transform(beijing_after_preprocessing[non_problematic_continuous]),\n",
    "    columns = non_problematic_continuous\n",
    ")\n",
    "\n",
    "beijing_after_normalization = beijing_after_scaling_pc.join(beijing_after_scaling_npc)\n",
    "\n",
    "plot_outliers(beijing_after_normalization, continuous)"
   ]
  },
  {
   "cell_type": "markdown",
   "id": "digital-letter",
   "metadata": {
    "slideshow": {
     "slide_type": "slide"
    }
   },
   "source": [
    "#### Finalne dane do modeli"
   ]
  },
  {
   "cell_type": "code",
   "execution_count": 15,
   "id": "independent-sandwich",
   "metadata": {
    "slideshow": {
     "slide_type": "-"
    }
   },
   "outputs": [
    {
     "data": {
      "text/html": [
       "<div>\n",
       "<style scoped>\n",
       "    .dataframe tbody tr th:only-of-type {\n",
       "        vertical-align: middle;\n",
       "    }\n",
       "\n",
       "    .dataframe tbody tr th {\n",
       "        vertical-align: top;\n",
       "    }\n",
       "\n",
       "    .dataframe thead th {\n",
       "        text-align: right;\n",
       "    }\n",
       "</style>\n",
       "<table border=\"1\" class=\"dataframe\">\n",
       "  <thead>\n",
       "    <tr style=\"text-align: right;\">\n",
       "      <th></th>\n",
       "      <th>PM_Dongsi</th>\n",
       "      <th>PM_Dongsihuan</th>\n",
       "      <th>PM_Nongzhanguan</th>\n",
       "      <th>PM_US Post</th>\n",
       "      <th>Iws</th>\n",
       "      <th>Iprec</th>\n",
       "      <th>DEWP</th>\n",
       "      <th>HUMI</th>\n",
       "      <th>PRES</th>\n",
       "      <th>TEMP</th>\n",
       "      <th>year</th>\n",
       "      <th>month</th>\n",
       "      <th>hour</th>\n",
       "      <th>cbwd</th>\n",
       "    </tr>\n",
       "  </thead>\n",
       "  <tbody>\n",
       "    <tr>\n",
       "      <th>0</th>\n",
       "      <td>0.713819</td>\n",
       "      <td>0.984191</td>\n",
       "      <td>0.905509</td>\n",
       "      <td>0.942610</td>\n",
       "      <td>-1.144002</td>\n",
       "      <td>-0.144118</td>\n",
       "      <td>-0.586129</td>\n",
       "      <td>0.299281</td>\n",
       "      <td>0.357152</td>\n",
       "      <td>-1.133227</td>\n",
       "      <td>2013</td>\n",
       "      <td>3</td>\n",
       "      <td>8</td>\n",
       "      <td>cv</td>\n",
       "    </tr>\n",
       "    <tr>\n",
       "      <th>1</th>\n",
       "      <td>0.814514</td>\n",
       "      <td>0.978585</td>\n",
       "      <td>0.982234</td>\n",
       "      <td>1.024822</td>\n",
       "      <td>-0.842828</td>\n",
       "      <td>-0.144118</td>\n",
       "      <td>-0.726319</td>\n",
       "      <td>-0.523603</td>\n",
       "      <td>0.357152</td>\n",
       "      <td>-0.786221</td>\n",
       "      <td>2013</td>\n",
       "      <td>3</td>\n",
       "      <td>9</td>\n",
       "      <td>cv</td>\n",
       "    </tr>\n",
       "    <tr>\n",
       "      <th>2</th>\n",
       "      <td>0.880100</td>\n",
       "      <td>1.022514</td>\n",
       "      <td>0.821954</td>\n",
       "      <td>1.078005</td>\n",
       "      <td>-0.626051</td>\n",
       "      <td>-0.144118</td>\n",
       "      <td>-0.726319</td>\n",
       "      <td>-0.797898</td>\n",
       "      <td>0.259250</td>\n",
       "      <td>-0.525966</td>\n",
       "      <td>2013</td>\n",
       "      <td>3</td>\n",
       "      <td>10</td>\n",
       "      <td>cv</td>\n",
       "    </tr>\n",
       "    <tr>\n",
       "      <th>3</th>\n",
       "      <td>1.041736</td>\n",
       "      <td>1.069582</td>\n",
       "      <td>-2.440952</td>\n",
       "      <td>1.128490</td>\n",
       "      <td>-0.317422</td>\n",
       "      <td>-0.144118</td>\n",
       "      <td>-0.796414</td>\n",
       "      <td>-1.111377</td>\n",
       "      <td>0.161347</td>\n",
       "      <td>-0.265711</td>\n",
       "      <td>2013</td>\n",
       "      <td>3</td>\n",
       "      <td>12</td>\n",
       "      <td>cv</td>\n",
       "    </tr>\n",
       "    <tr>\n",
       "      <th>4</th>\n",
       "      <td>1.041736</td>\n",
       "      <td>1.000808</td>\n",
       "      <td>-2.440952</td>\n",
       "      <td>1.160779</td>\n",
       "      <td>-0.199362</td>\n",
       "      <td>-0.144118</td>\n",
       "      <td>-0.796414</td>\n",
       "      <td>-1.150562</td>\n",
       "      <td>-0.034457</td>\n",
       "      <td>-0.178960</td>\n",
       "      <td>2013</td>\n",
       "      <td>3</td>\n",
       "      <td>13</td>\n",
       "      <td>cv</td>\n",
       "    </tr>\n",
       "    <tr>\n",
       "      <th>...</th>\n",
       "      <td>...</td>\n",
       "      <td>...</td>\n",
       "      <td>...</td>\n",
       "      <td>...</td>\n",
       "      <td>...</td>\n",
       "      <td>...</td>\n",
       "      <td>...</td>\n",
       "      <td>...</td>\n",
       "      <td>...</td>\n",
       "      <td>...</td>\n",
       "      <td>...</td>\n",
       "      <td>...</td>\n",
       "      <td>...</td>\n",
       "      <td>...</td>\n",
       "    </tr>\n",
       "    <tr>\n",
       "      <th>19057</th>\n",
       "      <td>0.728914</td>\n",
       "      <td>0.660044</td>\n",
       "      <td>0.697559</td>\n",
       "      <td>0.671496</td>\n",
       "      <td>-0.094679</td>\n",
       "      <td>-0.144118</td>\n",
       "      <td>-0.866509</td>\n",
       "      <td>0.260096</td>\n",
       "      <td>1.434078</td>\n",
       "      <td>-1.480234</td>\n",
       "      <td>2015</td>\n",
       "      <td>12</td>\n",
       "      <td>18</td>\n",
       "      <td>SE</td>\n",
       "    </tr>\n",
       "    <tr>\n",
       "      <th>19058</th>\n",
       "      <td>0.873753</td>\n",
       "      <td>0.932487</td>\n",
       "      <td>0.777214</td>\n",
       "      <td>0.823711</td>\n",
       "      <td>-0.004306</td>\n",
       "      <td>-0.144118</td>\n",
       "      <td>-0.726319</td>\n",
       "      <td>0.651946</td>\n",
       "      <td>1.531980</td>\n",
       "      <td>-1.480234</td>\n",
       "      <td>2015</td>\n",
       "      <td>12</td>\n",
       "      <td>19</td>\n",
       "      <td>SE</td>\n",
       "    </tr>\n",
       "    <tr>\n",
       "      <th>19059</th>\n",
       "      <td>0.975991</td>\n",
       "      <td>1.152489</td>\n",
       "      <td>0.963632</td>\n",
       "      <td>1.060591</td>\n",
       "      <td>0.076681</td>\n",
       "      <td>-0.144118</td>\n",
       "      <td>-0.726319</td>\n",
       "      <td>0.456021</td>\n",
       "      <td>1.434078</td>\n",
       "      <td>-1.393482</td>\n",
       "      <td>2015</td>\n",
       "      <td>12</td>\n",
       "      <td>20</td>\n",
       "      <td>SE</td>\n",
       "    </tr>\n",
       "    <tr>\n",
       "      <th>19060</th>\n",
       "      <td>1.052241</td>\n",
       "      <td>1.291011</td>\n",
       "      <td>1.219674</td>\n",
       "      <td>1.242087</td>\n",
       "      <td>-1.144002</td>\n",
       "      <td>-0.144118</td>\n",
       "      <td>-0.866509</td>\n",
       "      <td>0.847871</td>\n",
       "      <td>1.434078</td>\n",
       "      <td>-1.740489</td>\n",
       "      <td>2015</td>\n",
       "      <td>12</td>\n",
       "      <td>21</td>\n",
       "      <td>NE</td>\n",
       "    </tr>\n",
       "    <tr>\n",
       "      <th>19061</th>\n",
       "      <td>1.209875</td>\n",
       "      <td>1.334245</td>\n",
       "      <td>1.331904</td>\n",
       "      <td>1.285063</td>\n",
       "      <td>-0.842828</td>\n",
       "      <td>-0.144118</td>\n",
       "      <td>-0.866509</td>\n",
       "      <td>0.847871</td>\n",
       "      <td>1.434078</td>\n",
       "      <td>-1.740489</td>\n",
       "      <td>2015</td>\n",
       "      <td>12</td>\n",
       "      <td>22</td>\n",
       "      <td>NE</td>\n",
       "    </tr>\n",
       "  </tbody>\n",
       "</table>\n",
       "<p>19062 rows × 14 columns</p>\n",
       "</div>"
      ],
      "text/plain": [
       "       PM_Dongsi  PM_Dongsihuan  PM_Nongzhanguan  PM_US Post       Iws  \\\n",
       "0       0.713819       0.984191         0.905509    0.942610 -1.144002   \n",
       "1       0.814514       0.978585         0.982234    1.024822 -0.842828   \n",
       "2       0.880100       1.022514         0.821954    1.078005 -0.626051   \n",
       "3       1.041736       1.069582        -2.440952    1.128490 -0.317422   \n",
       "4       1.041736       1.000808        -2.440952    1.160779 -0.199362   \n",
       "...          ...            ...              ...         ...       ...   \n",
       "19057   0.728914       0.660044         0.697559    0.671496 -0.094679   \n",
       "19058   0.873753       0.932487         0.777214    0.823711 -0.004306   \n",
       "19059   0.975991       1.152489         0.963632    1.060591  0.076681   \n",
       "19060   1.052241       1.291011         1.219674    1.242087 -1.144002   \n",
       "19061   1.209875       1.334245         1.331904    1.285063 -0.842828   \n",
       "\n",
       "          Iprec      DEWP      HUMI      PRES      TEMP  year  month  hour  \\\n",
       "0     -0.144118 -0.586129  0.299281  0.357152 -1.133227  2013      3     8   \n",
       "1     -0.144118 -0.726319 -0.523603  0.357152 -0.786221  2013      3     9   \n",
       "2     -0.144118 -0.726319 -0.797898  0.259250 -0.525966  2013      3    10   \n",
       "3     -0.144118 -0.796414 -1.111377  0.161347 -0.265711  2013      3    12   \n",
       "4     -0.144118 -0.796414 -1.150562 -0.034457 -0.178960  2013      3    13   \n",
       "...         ...       ...       ...       ...       ...   ...    ...   ...   \n",
       "19057 -0.144118 -0.866509  0.260096  1.434078 -1.480234  2015     12    18   \n",
       "19058 -0.144118 -0.726319  0.651946  1.531980 -1.480234  2015     12    19   \n",
       "19059 -0.144118 -0.726319  0.456021  1.434078 -1.393482  2015     12    20   \n",
       "19060 -0.144118 -0.866509  0.847871  1.434078 -1.740489  2015     12    21   \n",
       "19061 -0.144118 -0.866509  0.847871  1.434078 -1.740489  2015     12    22   \n",
       "\n",
       "      cbwd  \n",
       "0       cv  \n",
       "1       cv  \n",
       "2       cv  \n",
       "3       cv  \n",
       "4       cv  \n",
       "...    ...  \n",
       "19057   SE  \n",
       "19058   SE  \n",
       "19059   SE  \n",
       "19060   NE  \n",
       "19061   NE  \n",
       "\n",
       "[19062 rows x 14 columns]"
      ]
     },
     "execution_count": 15,
     "metadata": {},
     "output_type": "execute_result"
    }
   ],
   "source": [
    "final_beijing = beijing_after_normalization.join(beijing_after_preprocessing[categorical].reset_index(drop=True))\n",
    "final_beijing"
   ]
  },
  {
   "cell_type": "markdown",
   "id": "comfortable-lobby",
   "metadata": {
    "slideshow": {
     "slide_type": "slide"
    }
   },
   "source": [
    "### Korelacje w zbiorze"
   ]
  },
  {
   "cell_type": "code",
   "execution_count": 16,
   "id": "flying-postcard",
   "metadata": {
    "slideshow": {
     "slide_type": "subslide"
    }
   },
   "outputs": [
    {
     "data": {
      "text/html": [
       "<style  type=\"text/css\" >\n",
       "#T_31c7e_row0_col0,#T_31c7e_row1_col1,#T_31c7e_row2_col2,#T_31c7e_row3_col3,#T_31c7e_row4_col4,#T_31c7e_row5_col5,#T_31c7e_row6_col6,#T_31c7e_row7_col7,#T_31c7e_row8_col8,#T_31c7e_row9_col9,#T_31c7e_row10_col10,#T_31c7e_row11_col11,#T_31c7e_row12_col12{\n",
       "            background-color:  #b40426;\n",
       "            color:  #f1f1f1;\n",
       "        }#T_31c7e_row0_col1,#T_31c7e_row1_col0{\n",
       "            background-color:  #cc403a;\n",
       "            color:  #f1f1f1;\n",
       "        }#T_31c7e_row0_col2,#T_31c7e_row1_col3,#T_31c7e_row2_col0,#T_31c7e_row3_col1{\n",
       "            background-color:  #c43032;\n",
       "            color:  #f1f1f1;\n",
       "        }#T_31c7e_row0_col3,#T_31c7e_row3_col0{\n",
       "            background-color:  #c32e31;\n",
       "            color:  #f1f1f1;\n",
       "        }#T_31c7e_row0_col4{\n",
       "            background-color:  #4358cb;\n",
       "            color:  #f1f1f1;\n",
       "        }#T_31c7e_row0_col5{\n",
       "            background-color:  #4e68d8;\n",
       "            color:  #000000;\n",
       "        }#T_31c7e_row0_col6,#T_31c7e_row7_col0{\n",
       "            background-color:  #f2cbb7;\n",
       "            color:  #000000;\n",
       "        }#T_31c7e_row0_col7,#T_31c7e_row2_col7,#T_31c7e_row7_col3{\n",
       "            background-color:  #f3c8b2;\n",
       "            color:  #000000;\n",
       "        }#T_31c7e_row0_col8,#T_31c7e_row6_col11{\n",
       "            background-color:  #b9d0f9;\n",
       "            color:  #000000;\n",
       "        }#T_31c7e_row0_col9{\n",
       "            background-color:  #d2dbe8;\n",
       "            color:  #000000;\n",
       "        }#T_31c7e_row0_col10,#T_31c7e_row0_col12,#T_31c7e_row7_col10,#T_31c7e_row8_col11,#T_31c7e_row9_col2,#T_31c7e_row10_col3{\n",
       "            background-color:  #88abfd;\n",
       "            color:  #000000;\n",
       "        }#T_31c7e_row0_col11{\n",
       "            background-color:  #688aef;\n",
       "            color:  #000000;\n",
       "        }#T_31c7e_row1_col2,#T_31c7e_row2_col1{\n",
       "            background-color:  #c73635;\n",
       "            color:  #f1f1f1;\n",
       "        }#T_31c7e_row1_col4,#T_31c7e_row4_col0,#T_31c7e_row4_col1,#T_31c7e_row4_col2,#T_31c7e_row4_col3,#T_31c7e_row4_col7,#T_31c7e_row7_col4,#T_31c7e_row7_col12,#T_31c7e_row8_col5,#T_31c7e_row8_col6,#T_31c7e_row8_col9,#T_31c7e_row9_col8,#T_31c7e_row10_col11,#T_31c7e_row11_col10{\n",
       "            background-color:  #3b4cc0;\n",
       "            color:  #f1f1f1;\n",
       "        }#T_31c7e_row1_col5{\n",
       "            background-color:  #4b64d5;\n",
       "            color:  #f1f1f1;\n",
       "        }#T_31c7e_row1_col6{\n",
       "            background-color:  #efcfbf;\n",
       "            color:  #000000;\n",
       "        }#T_31c7e_row1_col7,#T_31c7e_row7_col1{\n",
       "            background-color:  #f4c5ad;\n",
       "            color:  #000000;\n",
       "        }#T_31c7e_row1_col8,#T_31c7e_row3_col9,#T_31c7e_row10_col6{\n",
       "            background-color:  #c3d5f4;\n",
       "            color:  #000000;\n",
       "        }#T_31c7e_row1_col9{\n",
       "            background-color:  #c6d6f1;\n",
       "            color:  #000000;\n",
       "        }#T_31c7e_row1_col10,#T_31c7e_row8_col1{\n",
       "            background-color:  #85a8fc;\n",
       "            color:  #000000;\n",
       "        }#T_31c7e_row1_col11,#T_31c7e_row9_col10{\n",
       "            background-color:  #799cf8;\n",
       "            color:  #000000;\n",
       "        }#T_31c7e_row1_col12,#T_31c7e_row6_col12{\n",
       "            background-color:  #7a9df8;\n",
       "            color:  #000000;\n",
       "        }#T_31c7e_row2_col3,#T_31c7e_row3_col2{\n",
       "            background-color:  #c0282f;\n",
       "            color:  #f1f1f1;\n",
       "        }#T_31c7e_row2_col4,#T_31c7e_row3_col4{\n",
       "            background-color:  #3f53c6;\n",
       "            color:  #f1f1f1;\n",
       "        }#T_31c7e_row2_col5,#T_31c7e_row10_col5{\n",
       "            background-color:  #4c66d6;\n",
       "            color:  #000000;\n",
       "        }#T_31c7e_row2_col6{\n",
       "            background-color:  #eed0c0;\n",
       "            color:  #000000;\n",
       "        }#T_31c7e_row2_col8,#T_31c7e_row12_col4{\n",
       "            background-color:  #c1d4f4;\n",
       "            color:  #000000;\n",
       "        }#T_31c7e_row2_col9,#T_31c7e_row12_col8{\n",
       "            background-color:  #c7d7f0;\n",
       "            color:  #000000;\n",
       "        }#T_31c7e_row2_col10,#T_31c7e_row5_col0,#T_31c7e_row9_col1,#T_31c7e_row12_col10,#T_31c7e_row12_col11{\n",
       "            background-color:  #8badfd;\n",
       "            color:  #000000;\n",
       "        }#T_31c7e_row2_col11{\n",
       "            background-color:  #7295f4;\n",
       "            color:  #000000;\n",
       "        }#T_31c7e_row2_col12,#T_31c7e_row3_col12,#T_31c7e_row9_col3{\n",
       "            background-color:  #81a4fb;\n",
       "            color:  #000000;\n",
       "        }#T_31c7e_row3_col5{\n",
       "            background-color:  #4f69d9;\n",
       "            color:  #000000;\n",
       "        }#T_31c7e_row3_col6{\n",
       "            background-color:  #edd2c3;\n",
       "            color:  #000000;\n",
       "        }#T_31c7e_row3_col7{\n",
       "            background-color:  #f4c6af;\n",
       "            color:  #000000;\n",
       "        }#T_31c7e_row3_col8,#T_31c7e_row10_col9,#T_31c7e_row12_col6{\n",
       "            background-color:  #c5d6f2;\n",
       "            color:  #000000;\n",
       "        }#T_31c7e_row3_col10,#T_31c7e_row6_col10,#T_31c7e_row11_col3{\n",
       "            background-color:  #7da0f9;\n",
       "            color:  #000000;\n",
       "        }#T_31c7e_row3_col11{\n",
       "            background-color:  #7396f5;\n",
       "            color:  #000000;\n",
       "        }#T_31c7e_row4_col5{\n",
       "            background-color:  #516ddb;\n",
       "            color:  #000000;\n",
       "        }#T_31c7e_row4_col6{\n",
       "            background-color:  #9fbfff;\n",
       "            color:  #000000;\n",
       "        }#T_31c7e_row4_col8{\n",
       "            background-color:  #dadce0;\n",
       "            color:  #000000;\n",
       "        }#T_31c7e_row4_col9,#T_31c7e_row6_col2{\n",
       "            background-color:  #cfdaea;\n",
       "            color:  #000000;\n",
       "        }#T_31c7e_row4_col10{\n",
       "            background-color:  #89acfd;\n",
       "            color:  #000000;\n",
       "        }#T_31c7e_row4_col11,#T_31c7e_row8_col3{\n",
       "            background-color:  #84a7fc;\n",
       "            color:  #000000;\n",
       "        }#T_31c7e_row4_col12{\n",
       "            background-color:  #afcafc;\n",
       "            color:  #000000;\n",
       "        }#T_31c7e_row5_col1,#T_31c7e_row12_col1{\n",
       "            background-color:  #90b2fe;\n",
       "            color:  #000000;\n",
       "        }#T_31c7e_row5_col2{\n",
       "            background-color:  #8caffe;\n",
       "            color:  #000000;\n",
       "        }#T_31c7e_row5_col3,#T_31c7e_row5_col11,#T_31c7e_row10_col0{\n",
       "            background-color:  #8fb1fe;\n",
       "            color:  #000000;\n",
       "        }#T_31c7e_row5_col4,#T_31c7e_row10_col7{\n",
       "            background-color:  #96b7ff;\n",
       "            color:  #000000;\n",
       "        }#T_31c7e_row5_col6,#T_31c7e_row11_col9{\n",
       "            background-color:  #e0dbd8;\n",
       "            color:  #000000;\n",
       "        }#T_31c7e_row5_col7{\n",
       "            background-color:  #c9d7f0;\n",
       "            color:  #000000;\n",
       "        }#T_31c7e_row5_col8{\n",
       "            background-color:  #c0d4f5;\n",
       "            color:  #000000;\n",
       "        }#T_31c7e_row5_col9{\n",
       "            background-color:  #d7dce3;\n",
       "            color:  #000000;\n",
       "        }#T_31c7e_row5_col10,#T_31c7e_row10_col12,#T_31c7e_row11_col12{\n",
       "            background-color:  #82a6fb;\n",
       "            color:  #000000;\n",
       "        }#T_31c7e_row5_col12,#T_31c7e_row6_col5,#T_31c7e_row8_col2{\n",
       "            background-color:  #7ea1fa;\n",
       "            color:  #000000;\n",
       "        }#T_31c7e_row6_col0{\n",
       "            background-color:  #d6dce4;\n",
       "            color:  #000000;\n",
       "        }#T_31c7e_row6_col1{\n",
       "            background-color:  #d3dbe7;\n",
       "            color:  #000000;\n",
       "        }#T_31c7e_row6_col3{\n",
       "            background-color:  #ccd9ed;\n",
       "            color:  #000000;\n",
       "        }#T_31c7e_row6_col4{\n",
       "            background-color:  #5e7de7;\n",
       "            color:  #000000;\n",
       "        }#T_31c7e_row6_col7{\n",
       "            background-color:  #f39778;\n",
       "            color:  #000000;\n",
       "        }#T_31c7e_row6_col8{\n",
       "            background-color:  #4257c9;\n",
       "            color:  #f1f1f1;\n",
       "        }#T_31c7e_row6_col9{\n",
       "            background-color:  #d95847;\n",
       "            color:  #000000;\n",
       "        }#T_31c7e_row7_col2{\n",
       "            background-color:  #f2cab5;\n",
       "            color:  #000000;\n",
       "        }#T_31c7e_row7_col5,#T_31c7e_row9_col0{\n",
       "            background-color:  #94b6ff;\n",
       "            color:  #000000;\n",
       "        }#T_31c7e_row7_col6{\n",
       "            background-color:  #ec8165;\n",
       "            color:  #000000;\n",
       "        }#T_31c7e_row7_col8{\n",
       "            background-color:  #9dbdff;\n",
       "            color:  #000000;\n",
       "        }#T_31c7e_row7_col9{\n",
       "            background-color:  #dedcdb;\n",
       "            color:  #000000;\n",
       "        }#T_31c7e_row7_col11{\n",
       "            background-color:  #b3cdfb;\n",
       "            color:  #000000;\n",
       "        }#T_31c7e_row8_col0{\n",
       "            background-color:  #6e90f2;\n",
       "            color:  #000000;\n",
       "        }#T_31c7e_row8_col4{\n",
       "            background-color:  #aac7fd;\n",
       "            color:  #000000;\n",
       "        }#T_31c7e_row8_col7,#T_31c7e_row12_col7{\n",
       "            background-color:  #536edd;\n",
       "            color:  #000000;\n",
       "        }#T_31c7e_row8_col10{\n",
       "            background-color:  #9bbcff;\n",
       "            color:  #000000;\n",
       "        }#T_31c7e_row8_col12{\n",
       "            background-color:  #7597f6;\n",
       "            color:  #000000;\n",
       "        }#T_31c7e_row9_col4{\n",
       "            background-color:  #98b9ff;\n",
       "            color:  #000000;\n",
       "        }#T_31c7e_row9_col5{\n",
       "            background-color:  #6384eb;\n",
       "            color:  #000000;\n",
       "        }#T_31c7e_row9_col6{\n",
       "            background-color:  #da5a49;\n",
       "            color:  #000000;\n",
       "        }#T_31c7e_row9_col7,#T_31c7e_row9_col12{\n",
       "            background-color:  #b2ccfb;\n",
       "            color:  #000000;\n",
       "        }#T_31c7e_row9_col11{\n",
       "            background-color:  #a7c5fe;\n",
       "            color:  #000000;\n",
       "        }#T_31c7e_row10_col1,#T_31c7e_row10_col2,#T_31c7e_row11_col4,#T_31c7e_row12_col3{\n",
       "            background-color:  #93b5fe;\n",
       "            color:  #000000;\n",
       "        }#T_31c7e_row10_col4,#T_31c7e_row12_col0{\n",
       "            background-color:  #97b8ff;\n",
       "            color:  #000000;\n",
       "        }#T_31c7e_row10_col8{\n",
       "            background-color:  #d9dce1;\n",
       "            color:  #000000;\n",
       "        }#T_31c7e_row11_col0{\n",
       "            background-color:  #6f92f3;\n",
       "            color:  #000000;\n",
       "        }#T_31c7e_row11_col1{\n",
       "            background-color:  #86a9fc;\n",
       "            color:  #000000;\n",
       "        }#T_31c7e_row11_col2{\n",
       "            background-color:  #7b9ff9;\n",
       "            color:  #000000;\n",
       "        }#T_31c7e_row11_col5{\n",
       "            background-color:  #5977e3;\n",
       "            color:  #000000;\n",
       "        }#T_31c7e_row11_col6{\n",
       "            background-color:  #e5d8d1;\n",
       "            color:  #000000;\n",
       "        }#T_31c7e_row11_col7{\n",
       "            background-color:  #bed2f6;\n",
       "            color:  #000000;\n",
       "        }#T_31c7e_row11_col8{\n",
       "            background-color:  #cedaeb;\n",
       "            color:  #000000;\n",
       "        }#T_31c7e_row12_col2{\n",
       "            background-color:  #92b4fe;\n",
       "            color:  #000000;\n",
       "        }#T_31c7e_row12_col5{\n",
       "            background-color:  #506bda;\n",
       "            color:  #000000;\n",
       "        }#T_31c7e_row12_col9{\n",
       "            background-color:  #e8d6cc;\n",
       "            color:  #000000;\n",
       "        }</style><table id=\"T_31c7e_\" ><thead>    <tr>        <th class=\"blank level0\" ></th>        <th class=\"col_heading level0 col0\" >PM_Dongsi</th>        <th class=\"col_heading level0 col1\" >PM_Dongsihuan</th>        <th class=\"col_heading level0 col2\" >PM_Nongzhanguan</th>        <th class=\"col_heading level0 col3\" >PM_US Post</th>        <th class=\"col_heading level0 col4\" >Iws</th>        <th class=\"col_heading level0 col5\" >Iprec</th>        <th class=\"col_heading level0 col6\" >DEWP</th>        <th class=\"col_heading level0 col7\" >HUMI</th>        <th class=\"col_heading level0 col8\" >PRES</th>        <th class=\"col_heading level0 col9\" >TEMP</th>        <th class=\"col_heading level0 col10\" >year</th>        <th class=\"col_heading level0 col11\" >month</th>        <th class=\"col_heading level0 col12\" >hour</th>    </tr></thead><tbody>\n",
       "                <tr>\n",
       "                        <th id=\"T_31c7e_level0_row0\" class=\"row_heading level0 row0\" >PM_Dongsi</th>\n",
       "                        <td id=\"T_31c7e_row0_col0\" class=\"data row0 col0\" >1.00</td>\n",
       "                        <td id=\"T_31c7e_row0_col1\" class=\"data row0 col1\" >0.91</td>\n",
       "                        <td id=\"T_31c7e_row0_col2\" class=\"data row0 col2\" >0.94</td>\n",
       "                        <td id=\"T_31c7e_row0_col3\" class=\"data row0 col3\" >0.94</td>\n",
       "                        <td id=\"T_31c7e_row0_col4\" class=\"data row0 col4\" >-0.36</td>\n",
       "                        <td id=\"T_31c7e_row0_col5\" class=\"data row0 col5\" >-0.03</td>\n",
       "                        <td id=\"T_31c7e_row0_col6\" class=\"data row0 col6\" >0.29</td>\n",
       "                        <td id=\"T_31c7e_row0_col7\" class=\"data row0 col7\" >0.46</td>\n",
       "                        <td id=\"T_31c7e_row0_col8\" class=\"data row0 col8\" >-0.14</td>\n",
       "                        <td id=\"T_31c7e_row0_col9\" class=\"data row0 col9\" >0.01</td>\n",
       "                        <td id=\"T_31c7e_row0_col10\" class=\"data row0 col10\" >-0.01</td>\n",
       "                        <td id=\"T_31c7e_row0_col11\" class=\"data row0 col11\" >-0.13</td>\n",
       "                        <td id=\"T_31c7e_row0_col12\" class=\"data row0 col12\" >0.02</td>\n",
       "            </tr>\n",
       "            <tr>\n",
       "                        <th id=\"T_31c7e_level0_row1\" class=\"row_heading level0 row1\" >PM_Dongsihuan</th>\n",
       "                        <td id=\"T_31c7e_row1_col0\" class=\"data row1 col0\" >0.91</td>\n",
       "                        <td id=\"T_31c7e_row1_col1\" class=\"data row1 col1\" >1.00</td>\n",
       "                        <td id=\"T_31c7e_row1_col2\" class=\"data row1 col2\" >0.93</td>\n",
       "                        <td id=\"T_31c7e_row1_col3\" class=\"data row1 col3\" >0.94</td>\n",
       "                        <td id=\"T_31c7e_row1_col4\" class=\"data row1 col4\" >-0.39</td>\n",
       "                        <td id=\"T_31c7e_row1_col5\" class=\"data row1 col5\" >-0.03</td>\n",
       "                        <td id=\"T_31c7e_row1_col6\" class=\"data row1 col6\" >0.25</td>\n",
       "                        <td id=\"T_31c7e_row1_col7\" class=\"data row1 col7\" >0.47</td>\n",
       "                        <td id=\"T_31c7e_row1_col8\" class=\"data row1 col8\" >-0.08</td>\n",
       "                        <td id=\"T_31c7e_row1_col9\" class=\"data row1 col9\" >-0.05</td>\n",
       "                        <td id=\"T_31c7e_row1_col10\" class=\"data row1 col10\" >-0.02</td>\n",
       "                        <td id=\"T_31c7e_row1_col11\" class=\"data row1 col11\" >-0.07</td>\n",
       "                        <td id=\"T_31c7e_row1_col12\" class=\"data row1 col12\" >-0.03</td>\n",
       "            </tr>\n",
       "            <tr>\n",
       "                        <th id=\"T_31c7e_level0_row2\" class=\"row_heading level0 row2\" >PM_Nongzhanguan</th>\n",
       "                        <td id=\"T_31c7e_row2_col0\" class=\"data row2 col0\" >0.94</td>\n",
       "                        <td id=\"T_31c7e_row2_col1\" class=\"data row2 col1\" >0.93</td>\n",
       "                        <td id=\"T_31c7e_row2_col2\" class=\"data row2 col2\" >1.00</td>\n",
       "                        <td id=\"T_31c7e_row2_col3\" class=\"data row2 col3\" >0.95</td>\n",
       "                        <td id=\"T_31c7e_row2_col4\" class=\"data row2 col4\" >-0.37</td>\n",
       "                        <td id=\"T_31c7e_row2_col5\" class=\"data row2 col5\" >-0.03</td>\n",
       "                        <td id=\"T_31c7e_row2_col6\" class=\"data row2 col6\" >0.25</td>\n",
       "                        <td id=\"T_31c7e_row2_col7\" class=\"data row2 col7\" >0.46</td>\n",
       "                        <td id=\"T_31c7e_row2_col8\" class=\"data row2 col8\" >-0.08</td>\n",
       "                        <td id=\"T_31c7e_row2_col9\" class=\"data row2 col9\" >-0.05</td>\n",
       "                        <td id=\"T_31c7e_row2_col10\" class=\"data row2 col10\" >-0.00</td>\n",
       "                        <td id=\"T_31c7e_row2_col11\" class=\"data row2 col11\" >-0.09</td>\n",
       "                        <td id=\"T_31c7e_row2_col12\" class=\"data row2 col12\" >-0.01</td>\n",
       "            </tr>\n",
       "            <tr>\n",
       "                        <th id=\"T_31c7e_level0_row3\" class=\"row_heading level0 row3\" >PM_US Post</th>\n",
       "                        <td id=\"T_31c7e_row3_col0\" class=\"data row3 col0\" >0.94</td>\n",
       "                        <td id=\"T_31c7e_row3_col1\" class=\"data row3 col1\" >0.94</td>\n",
       "                        <td id=\"T_31c7e_row3_col2\" class=\"data row3 col2\" >0.95</td>\n",
       "                        <td id=\"T_31c7e_row3_col3\" class=\"data row3 col3\" >1.00</td>\n",
       "                        <td id=\"T_31c7e_row3_col4\" class=\"data row3 col4\" >-0.37</td>\n",
       "                        <td id=\"T_31c7e_row3_col5\" class=\"data row3 col5\" >-0.02</td>\n",
       "                        <td id=\"T_31c7e_row3_col6\" class=\"data row3 col6\" >0.23</td>\n",
       "                        <td id=\"T_31c7e_row3_col7\" class=\"data row3 col7\" >0.47</td>\n",
       "                        <td id=\"T_31c7e_row3_col8\" class=\"data row3 col8\" >-0.06</td>\n",
       "                        <td id=\"T_31c7e_row3_col9\" class=\"data row3 col9\" >-0.08</td>\n",
       "                        <td id=\"T_31c7e_row3_col10\" class=\"data row3 col10\" >-0.05</td>\n",
       "                        <td id=\"T_31c7e_row3_col11\" class=\"data row3 col11\" >-0.09</td>\n",
       "                        <td id=\"T_31c7e_row3_col12\" class=\"data row3 col12\" >-0.00</td>\n",
       "            </tr>\n",
       "            <tr>\n",
       "                        <th id=\"T_31c7e_level0_row4\" class=\"row_heading level0 row4\" >Iws</th>\n",
       "                        <td id=\"T_31c7e_row4_col0\" class=\"data row4 col0\" >-0.36</td>\n",
       "                        <td id=\"T_31c7e_row4_col1\" class=\"data row4 col1\" >-0.39</td>\n",
       "                        <td id=\"T_31c7e_row4_col2\" class=\"data row4 col2\" >-0.37</td>\n",
       "                        <td id=\"T_31c7e_row4_col3\" class=\"data row4 col3\" >-0.37</td>\n",
       "                        <td id=\"T_31c7e_row4_col4\" class=\"data row4 col4\" >1.00</td>\n",
       "                        <td id=\"T_31c7e_row4_col5\" class=\"data row4 col5\" >-0.01</td>\n",
       "                        <td id=\"T_31c7e_row4_col6\" class=\"data row4 col6\" >-0.24</td>\n",
       "                        <td id=\"T_31c7e_row4_col7\" class=\"data row4 col7\" >-0.40</td>\n",
       "                        <td id=\"T_31c7e_row4_col8\" class=\"data row4 col8\" >0.07</td>\n",
       "                        <td id=\"T_31c7e_row4_col9\" class=\"data row4 col9\" >-0.00</td>\n",
       "                        <td id=\"T_31c7e_row4_col10\" class=\"data row4 col10\" >-0.00</td>\n",
       "                        <td id=\"T_31c7e_row4_col11\" class=\"data row4 col11\" >-0.02</td>\n",
       "                        <td id=\"T_31c7e_row4_col12\" class=\"data row4 col12\" >0.17</td>\n",
       "            </tr>\n",
       "            <tr>\n",
       "                        <th id=\"T_31c7e_level0_row5\" class=\"row_heading level0 row5\" >Iprec</th>\n",
       "                        <td id=\"T_31c7e_row5_col0\" class=\"data row5 col0\" >-0.03</td>\n",
       "                        <td id=\"T_31c7e_row5_col1\" class=\"data row5 col1\" >-0.03</td>\n",
       "                        <td id=\"T_31c7e_row5_col2\" class=\"data row5 col2\" >-0.03</td>\n",
       "                        <td id=\"T_31c7e_row5_col3\" class=\"data row5 col3\" >-0.02</td>\n",
       "                        <td id=\"T_31c7e_row5_col4\" class=\"data row5 col4\" >-0.01</td>\n",
       "                        <td id=\"T_31c7e_row5_col5\" class=\"data row5 col5\" >1.00</td>\n",
       "                        <td id=\"T_31c7e_row5_col6\" class=\"data row5 col6\" >0.13</td>\n",
       "                        <td id=\"T_31c7e_row5_col7\" class=\"data row5 col7\" >0.20</td>\n",
       "                        <td id=\"T_31c7e_row5_col8\" class=\"data row5 col8\" >-0.10</td>\n",
       "                        <td id=\"T_31c7e_row5_col9\" class=\"data row5 col9\" >0.05</td>\n",
       "                        <td id=\"T_31c7e_row5_col10\" class=\"data row5 col10\" >-0.03</td>\n",
       "                        <td id=\"T_31c7e_row5_col11\" class=\"data row5 col11\" >0.01</td>\n",
       "                        <td id=\"T_31c7e_row5_col12\" class=\"data row5 col12\" >-0.01</td>\n",
       "            </tr>\n",
       "            <tr>\n",
       "                        <th id=\"T_31c7e_level0_row6\" class=\"row_heading level0 row6\" >DEWP</th>\n",
       "                        <td id=\"T_31c7e_row6_col0\" class=\"data row6 col0\" >0.29</td>\n",
       "                        <td id=\"T_31c7e_row6_col1\" class=\"data row6 col1\" >0.25</td>\n",
       "                        <td id=\"T_31c7e_row6_col2\" class=\"data row6 col2\" >0.25</td>\n",
       "                        <td id=\"T_31c7e_row6_col3\" class=\"data row6 col3\" >0.23</td>\n",
       "                        <td id=\"T_31c7e_row6_col4\" class=\"data row6 col4\" >-0.24</td>\n",
       "                        <td id=\"T_31c7e_row6_col5\" class=\"data row6 col5\" >0.13</td>\n",
       "                        <td id=\"T_31c7e_row6_col6\" class=\"data row6 col6\" >1.00</td>\n",
       "                        <td id=\"T_31c7e_row6_col7\" class=\"data row6 col7\" >0.66</td>\n",
       "                        <td id=\"T_31c7e_row6_col8\" class=\"data row6 col8\" >-0.77</td>\n",
       "                        <td id=\"T_31c7e_row6_col9\" class=\"data row6 col9\" >0.80</td>\n",
       "                        <td id=\"T_31c7e_row6_col10\" class=\"data row6 col10\" >-0.05</td>\n",
       "                        <td id=\"T_31c7e_row6_col11\" class=\"data row6 col11\" >0.17</td>\n",
       "                        <td id=\"T_31c7e_row6_col12\" class=\"data row6 col12\" >-0.03</td>\n",
       "            </tr>\n",
       "            <tr>\n",
       "                        <th id=\"T_31c7e_level0_row7\" class=\"row_heading level0 row7\" >HUMI</th>\n",
       "                        <td id=\"T_31c7e_row7_col0\" class=\"data row7 col0\" >0.46</td>\n",
       "                        <td id=\"T_31c7e_row7_col1\" class=\"data row7 col1\" >0.47</td>\n",
       "                        <td id=\"T_31c7e_row7_col2\" class=\"data row7 col2\" >0.46</td>\n",
       "                        <td id=\"T_31c7e_row7_col3\" class=\"data row7 col3\" >0.47</td>\n",
       "                        <td id=\"T_31c7e_row7_col4\" class=\"data row7 col4\" >-0.40</td>\n",
       "                        <td id=\"T_31c7e_row7_col5\" class=\"data row7 col5\" >0.20</td>\n",
       "                        <td id=\"T_31c7e_row7_col6\" class=\"data row7 col6\" >0.66</td>\n",
       "                        <td id=\"T_31c7e_row7_col7\" class=\"data row7 col7\" >1.00</td>\n",
       "                        <td id=\"T_31c7e_row7_col8\" class=\"data row7 col8\" >-0.29</td>\n",
       "                        <td id=\"T_31c7e_row7_col9\" class=\"data row7 col9\" >0.10</td>\n",
       "                        <td id=\"T_31c7e_row7_col10\" class=\"data row7 col10\" >-0.01</td>\n",
       "                        <td id=\"T_31c7e_row7_col11\" class=\"data row7 col11\" >0.15</td>\n",
       "                        <td id=\"T_31c7e_row7_col12\" class=\"data row7 col12\" >-0.28</td>\n",
       "            </tr>\n",
       "            <tr>\n",
       "                        <th id=\"T_31c7e_level0_row8\" class=\"row_heading level0 row8\" >PRES</th>\n",
       "                        <td id=\"T_31c7e_row8_col0\" class=\"data row8 col0\" >-0.14</td>\n",
       "                        <td id=\"T_31c7e_row8_col1\" class=\"data row8 col1\" >-0.08</td>\n",
       "                        <td id=\"T_31c7e_row8_col2\" class=\"data row8 col2\" >-0.08</td>\n",
       "                        <td id=\"T_31c7e_row8_col3\" class=\"data row8 col3\" >-0.06</td>\n",
       "                        <td id=\"T_31c7e_row8_col4\" class=\"data row8 col4\" >0.07</td>\n",
       "                        <td id=\"T_31c7e_row8_col5\" class=\"data row8 col5\" >-0.10</td>\n",
       "                        <td id=\"T_31c7e_row8_col6\" class=\"data row8 col6\" >-0.77</td>\n",
       "                        <td id=\"T_31c7e_row8_col7\" class=\"data row8 col7\" >-0.29</td>\n",
       "                        <td id=\"T_31c7e_row8_col8\" class=\"data row8 col8\" >1.00</td>\n",
       "                        <td id=\"T_31c7e_row8_col9\" class=\"data row8 col9\" >-0.82</td>\n",
       "                        <td id=\"T_31c7e_row8_col10\" class=\"data row8 col10\" >0.06</td>\n",
       "                        <td id=\"T_31c7e_row8_col11\" class=\"data row8 col11\" >-0.01</td>\n",
       "                        <td id=\"T_31c7e_row8_col12\" class=\"data row8 col12\" >-0.05</td>\n",
       "            </tr>\n",
       "            <tr>\n",
       "                        <th id=\"T_31c7e_level0_row9\" class=\"row_heading level0 row9\" >TEMP</th>\n",
       "                        <td id=\"T_31c7e_row9_col0\" class=\"data row9 col0\" >0.01</td>\n",
       "                        <td id=\"T_31c7e_row9_col1\" class=\"data row9 col1\" >-0.05</td>\n",
       "                        <td id=\"T_31c7e_row9_col2\" class=\"data row9 col2\" >-0.05</td>\n",
       "                        <td id=\"T_31c7e_row9_col3\" class=\"data row9 col3\" >-0.08</td>\n",
       "                        <td id=\"T_31c7e_row9_col4\" class=\"data row9 col4\" >-0.00</td>\n",
       "                        <td id=\"T_31c7e_row9_col5\" class=\"data row9 col5\" >0.05</td>\n",
       "                        <td id=\"T_31c7e_row9_col6\" class=\"data row9 col6\" >0.80</td>\n",
       "                        <td id=\"T_31c7e_row9_col7\" class=\"data row9 col7\" >0.10</td>\n",
       "                        <td id=\"T_31c7e_row9_col8\" class=\"data row9 col8\" >-0.82</td>\n",
       "                        <td id=\"T_31c7e_row9_col9\" class=\"data row9 col9\" >1.00</td>\n",
       "                        <td id=\"T_31c7e_row9_col10\" class=\"data row9 col10\" >-0.06</td>\n",
       "                        <td id=\"T_31c7e_row9_col11\" class=\"data row9 col11\" >0.11</td>\n",
       "                        <td id=\"T_31c7e_row9_col12\" class=\"data row9 col12\" >0.17</td>\n",
       "            </tr>\n",
       "            <tr>\n",
       "                        <th id=\"T_31c7e_level0_row10\" class=\"row_heading level0 row10\" >year</th>\n",
       "                        <td id=\"T_31c7e_row10_col0\" class=\"data row10 col0\" >-0.01</td>\n",
       "                        <td id=\"T_31c7e_row10_col1\" class=\"data row10 col1\" >-0.02</td>\n",
       "                        <td id=\"T_31c7e_row10_col2\" class=\"data row10 col2\" >-0.00</td>\n",
       "                        <td id=\"T_31c7e_row10_col3\" class=\"data row10 col3\" >-0.05</td>\n",
       "                        <td id=\"T_31c7e_row10_col4\" class=\"data row10 col4\" >-0.00</td>\n",
       "                        <td id=\"T_31c7e_row10_col5\" class=\"data row10 col5\" >-0.03</td>\n",
       "                        <td id=\"T_31c7e_row10_col6\" class=\"data row10 col6\" >-0.05</td>\n",
       "                        <td id=\"T_31c7e_row10_col7\" class=\"data row10 col7\" >-0.01</td>\n",
       "                        <td id=\"T_31c7e_row10_col8\" class=\"data row10 col8\" >0.06</td>\n",
       "                        <td id=\"T_31c7e_row10_col9\" class=\"data row10 col9\" >-0.06</td>\n",
       "                        <td id=\"T_31c7e_row10_col10\" class=\"data row10 col10\" >1.00</td>\n",
       "                        <td id=\"T_31c7e_row10_col11\" class=\"data row10 col11\" >-0.32</td>\n",
       "                        <td id=\"T_31c7e_row10_col12\" class=\"data row10 col12\" >-0.00</td>\n",
       "            </tr>\n",
       "            <tr>\n",
       "                        <th id=\"T_31c7e_level0_row11\" class=\"row_heading level0 row11\" >month</th>\n",
       "                        <td id=\"T_31c7e_row11_col0\" class=\"data row11 col0\" >-0.13</td>\n",
       "                        <td id=\"T_31c7e_row11_col1\" class=\"data row11 col1\" >-0.07</td>\n",
       "                        <td id=\"T_31c7e_row11_col2\" class=\"data row11 col2\" >-0.09</td>\n",
       "                        <td id=\"T_31c7e_row11_col3\" class=\"data row11 col3\" >-0.09</td>\n",
       "                        <td id=\"T_31c7e_row11_col4\" class=\"data row11 col4\" >-0.02</td>\n",
       "                        <td id=\"T_31c7e_row11_col5\" class=\"data row11 col5\" >0.01</td>\n",
       "                        <td id=\"T_31c7e_row11_col6\" class=\"data row11 col6\" >0.17</td>\n",
       "                        <td id=\"T_31c7e_row11_col7\" class=\"data row11 col7\" >0.15</td>\n",
       "                        <td id=\"T_31c7e_row11_col8\" class=\"data row11 col8\" >-0.01</td>\n",
       "                        <td id=\"T_31c7e_row11_col9\" class=\"data row11 col9\" >0.11</td>\n",
       "                        <td id=\"T_31c7e_row11_col10\" class=\"data row11 col10\" >-0.32</td>\n",
       "                        <td id=\"T_31c7e_row11_col11\" class=\"data row11 col11\" >1.00</td>\n",
       "                        <td id=\"T_31c7e_row11_col12\" class=\"data row11 col12\" >0.00</td>\n",
       "            </tr>\n",
       "            <tr>\n",
       "                        <th id=\"T_31c7e_level0_row12\" class=\"row_heading level0 row12\" >hour</th>\n",
       "                        <td id=\"T_31c7e_row12_col0\" class=\"data row12 col0\" >0.02</td>\n",
       "                        <td id=\"T_31c7e_row12_col1\" class=\"data row12 col1\" >-0.03</td>\n",
       "                        <td id=\"T_31c7e_row12_col2\" class=\"data row12 col2\" >-0.01</td>\n",
       "                        <td id=\"T_31c7e_row12_col3\" class=\"data row12 col3\" >-0.00</td>\n",
       "                        <td id=\"T_31c7e_row12_col4\" class=\"data row12 col4\" >0.17</td>\n",
       "                        <td id=\"T_31c7e_row12_col5\" class=\"data row12 col5\" >-0.01</td>\n",
       "                        <td id=\"T_31c7e_row12_col6\" class=\"data row12 col6\" >-0.03</td>\n",
       "                        <td id=\"T_31c7e_row12_col7\" class=\"data row12 col7\" >-0.28</td>\n",
       "                        <td id=\"T_31c7e_row12_col8\" class=\"data row12 col8\" >-0.05</td>\n",
       "                        <td id=\"T_31c7e_row12_col9\" class=\"data row12 col9\" >0.17</td>\n",
       "                        <td id=\"T_31c7e_row12_col10\" class=\"data row12 col10\" >-0.00</td>\n",
       "                        <td id=\"T_31c7e_row12_col11\" class=\"data row12 col11\" >0.00</td>\n",
       "                        <td id=\"T_31c7e_row12_col12\" class=\"data row12 col12\" >1.00</td>\n",
       "            </tr>\n",
       "    </tbody></table>"
      ],
      "text/plain": [
       "<pandas.io.formats.style.Styler at 0x210052e1970>"
      ]
     },
     "execution_count": 16,
     "metadata": {},
     "output_type": "execute_result"
    }
   ],
   "source": [
    "final_beijing.corr().style.background_gradient(cmap='coolwarm').set_precision(2)"
   ]
  },
  {
   "cell_type": "markdown",
   "id": "nuclear-frost",
   "metadata": {
    "slideshow": {
     "slide_type": "subslide"
    }
   },
   "source": [
    "Analizując macierz korelacji, możemy zauważyć i całkiem słusznie, że wszystkie pomiary ilości pyłów (*PM_X*) są ze sobą silnie skorelowane, co intuicyjnie ma sens ze wzgledu na lokalizacje czujników. Ponadto ważną korelacją jest równiez korelacja negatywna pyłów (*PM_X*) a siłą wiatru (*Iws*). Również jest pozytywna zależność pomiedzy punktem rosy (*DEWP*) a pyłami (*PM_X*). Do tego jest silna pozytywna korelacja pomiedzy wilgotnością powietrza (*HUMI*) a zawartością pyłów (*PM_X*). \n",
    "\n",
    "Również punkt rosy jest silnie skorelowany z wilgotnością, ciśnieniem atmosferycznych oraz temperatura. Ciekawą korelają jest również godzina (*hour*) z wilgotnością powietrza (*HUMI*).\n",
    "\n",
    "Ostatnią istotną korelacja jest korelacja pomiędzy ciśnieniem, a temperaturą."
   ]
  },
  {
   "cell_type": "markdown",
   "id": "generic-malawi",
   "metadata": {
    "slideshow": {
     "slide_type": "slide"
    }
   },
   "source": [
    "## Modele"
   ]
  },
  {
   "cell_type": "markdown",
   "id": "cutting-retreat",
   "metadata": {},
   "source": [
    "### Proste modele probabilistyczne"
   ]
  },
  {
   "cell_type": "code",
   "execution_count": 32,
   "id": "skilled-party",
   "metadata": {},
   "outputs": [
    {
     "name": "stdout",
     "output_type": "stream",
     "text": [
      "0.43770419714057474\n",
      "0.43618316064481877\n"
     ]
    }
   ],
   "source": [
    "from sklearn import linear_model\n",
    "from sklearn.model_selection import train_test_split\n",
    "\n",
    "features = ['DEWP', 'HUMI', 'PRES', 'TEMP', 'Iws', 'Iprec', 'year', 'month', 'hour']\n",
    "target = ['PM_Dongsihuan']\n",
    "\n",
    "features.extend([f'wind_direction_{i}' for i in final_beijing['cbwd'].unique()])\n",
    "\n",
    "one_hot = OneHotEncoder(drop=None, sparse=False)\n",
    "onehot_beijing = final_beijing.join(pd.DataFrame(\n",
    "    one_hot.fit_transform(final_beijing['cbwd'].to_numpy().reshape(-1, 1)),\n",
    "    columns=[f'wind_direction_{i}' for i in final_beijing['cbwd'].unique()],\n",
    "    index=final_beijing.index,\n",
    "))\n",
    "\n",
    "X_train, X_test, y_train, y_test = train_test_split(onehot_beijing[features],\n",
    "                                                    onehot_beijing[target],\n",
    "                                                    test_size=0.2,\n",
    "                                                    random_state=42)\n",
    "ridge_regression = linear_model.Ridge(\n",
    "    alpha=1.0,\n",
    "    fit_intercept=True,\n",
    "    normalize=False\n",
    ")\n",
    "\n",
    "ridge_regression.fit(X_train[features], y_train[target])\n",
    "print(ridge_regression.score(X_train[features], y_train[target]))\n",
    "\n",
    "print(ridge_regression.score(X_test[features], y_test[target]))"
   ]
  },
  {
   "cell_type": "code",
   "execution_count": 61,
   "id": "private-chamber",
   "metadata": {},
   "outputs": [
    {
     "name": "stdout",
     "output_type": "stream",
     "text": [
      "0.437701318134352\n",
      "0.43618693773802386\n"
     ]
    },
    {
     "data": {
      "text/plain": [
       "0.43618693773802386"
      ]
     },
     "execution_count": 61,
     "metadata": {},
     "output_type": "execute_result"
    }
   ],
   "source": [
    "from sklearn.linear_model import BayesianRidge\n",
    "from sklearn.metrics import r2_score\n",
    "\n",
    "bayes_ridge = BayesianRidge()\n",
    "\n",
    "bayes_ridge.fit(X_train[features], y_train[target])\n",
    "\n",
    "print(bayes_ridge.score(X_train[features], y_train[target]))\n",
    "print(bayes_ridge.score(X_test[features], y_test[target]))\n",
    "\n",
    "r2_score(y_test[target], bayes_ridge.predict(X_test[features]))"
   ]
  },
  {
   "cell_type": "code",
   "execution_count": 59,
   "id": "foreign-consumer",
   "metadata": {},
   "outputs": [
    {
     "data": {
      "text/plain": [
       "array([-0.06856872,  0.15848348,  0.16712281, ..., -0.01507611,\n",
       "       -0.88725198, -0.76071805])"
      ]
     },
     "execution_count": 59,
     "metadata": {},
     "output_type": "execute_result"
    }
   ],
   "source": []
  },
  {
   "cell_type": "code",
   "execution_count": 58,
   "id": "white-rental",
   "metadata": {},
   "outputs": [
    {
     "data": {
      "text/plain": [
       "0.13148445848171142"
      ]
     },
     "execution_count": 58,
     "metadata": {},
     "output_type": "execute_result"
    }
   ],
   "source": [
    "online_model = FullConjugateBayesLinReg(len(features), alpha_init=.2)\n",
    "\n",
    "online_model.fit(X_train, y_train)\n",
    "\n",
    "y_pred = online_model.predict(X_test).pdf(.9999)\n",
    "\n",
    "r2_score(y_test, y_pred)"
   ]
  },
  {
   "cell_type": "code",
   "execution_count": 126,
   "id": "healthy-private",
   "metadata": {},
   "outputs": [],
   "source": [
    "class OnlineModel(FullConjugateBayesLinReg):\n",
    "    def __init__(\n",
    "        self,\n",
    "        n_features,\n",
    "        n_iter=300,\n",
    "        tol=1.e-3,\n",
    "        alpha_shape=1.e-6, # non-informative prior \n",
    "        alpha_rate=1.e-6,\n",
    "        lmbda_shape=2, # mode=1 => standard normal posterior\n",
    "        lmbda_rate=1,\n",
    "        alpha_init=None,\n",
    "        lmbda_init=1,\n",
    "        fit_intercept=False\n",
    "    ):\n",
    "        FullConjugateBayesLinReg.__init__(self, n_features, n_iter, tol, alpha_shape,\n",
    "                                          alpha_rate, lmbda_shape, lmbda_rate, alpha_init,\n",
    "                                          lmbda_init, fit_intercept)\n",
    "    \n",
    "    def model_fit(self, i, X_train, y_train):\n",
    "        self.fit(X_train[:i], y_train[:i])"
   ]
  },
  {
   "cell_type": "code",
   "execution_count": 135,
   "id": "expensive-appraisal",
   "metadata": {},
   "outputs": [
    {
     "data": {
      "application/vnd.jupyter.widget-view+json": {
       "model_id": "a8ddc832d4ad42799facd73b2685f07f",
       "version_major": 2,
       "version_minor": 0
      },
      "text/plain": [
       "HBox(children=(FloatProgress(value=0.0, max=476.0), HTML(value='')))"
      ]
     },
     "metadata": {},
     "output_type": "display_data"
    },
    {
     "name": "stdout",
     "output_type": "stream",
     "text": [
      "\n"
     ]
    }
   ],
   "source": [
    "online_model = OnlineModel(len(features), alpha_init=.2)\n",
    "\n",
    "rs_train, rs_test = [], []\n",
    "\n",
    "from tqdm.auto import tqdm\n",
    "\n",
    "batch_size = 32\n",
    "\n",
    "for i in tqdm(range(batch_size, len(X_train) + 1, batch_size)):\n",
    "    online_model.model_fit(i, X_train, y_train)\n",
    "    \n",
    "    y_pred = online_model.predict(X_train).pdf(.9999)\n",
    "    rs_train.append(r2_score(y_train, y_pred))\n",
    "    \n",
    "    y_pred = online_model.predict(X_test).pdf(.9999)\n",
    "    rs_test.append(r2_score(y_test, y_pred))\n",
    "    \n",
    "    \n"
   ]
  },
  {
   "cell_type": "code",
   "execution_count": 136,
   "id": "prepared-lawsuit",
   "metadata": {},
   "outputs": [
    {
     "data": {
      "text/plain": [
       "<matplotlib.legend.Legend at 0x210095b7640>"
      ]
     },
     "execution_count": 136,
     "metadata": {},
     "output_type": "execute_result"
    },
    {
     "data": {
      "image/png": "[encoded data removed]",
      "text/plain": [
       "<Figure size 432x288 with 1 Axes>"
      ]
     },
     "metadata": {
      "needs_background": "light"
     },
     "output_type": "display_data"
    }
   ],
   "source": [
    "plt.plot(range(len(rs_train)), rs_train, label='R2_score_train')\n",
    "plt.plot(range(len(rs_test)), rs_test, label='R2_score_test')\n",
    "plt.legend()"
   ]
  },
  {
   "cell_type": "code",
   "execution_count": 121,
   "id": "sharing-saturday",
   "metadata": {},
   "outputs": [
    {
     "data": {
      "text/html": [
       "<div>\n",
       "<style scoped>\n",
       "    .dataframe tbody tr th:only-of-type {\n",
       "        vertical-align: middle;\n",
       "    }\n",
       "\n",
       "    .dataframe tbody tr th {\n",
       "        vertical-align: top;\n",
       "    }\n",
       "\n",
       "    .dataframe thead th {\n",
       "        text-align: right;\n",
       "    }\n",
       "</style>\n",
       "<table border=\"1\" class=\"dataframe\">\n",
       "  <thead>\n",
       "    <tr style=\"text-align: right;\">\n",
       "      <th></th>\n",
       "      <th>PM_Dongsihuan</th>\n",
       "    </tr>\n",
       "  </thead>\n",
       "  <tbody>\n",
       "    <tr>\n",
       "      <th>16771</th>\n",
       "      <td>0.792546</td>\n",
       "    </tr>\n",
       "    <tr>\n",
       "      <th>16622</th>\n",
       "      <td>-0.557878</td>\n",
       "    </tr>\n",
       "    <tr>\n",
       "      <th>1714</th>\n",
       "      <td>0.089043</td>\n",
       "    </tr>\n",
       "    <tr>\n",
       "      <th>9838</th>\n",
       "      <td>-0.349616</td>\n",
       "    </tr>\n",
       "    <tr>\n",
       "      <th>8492</th>\n",
       "      <td>0.594521</td>\n",
       "    </tr>\n",
       "  </tbody>\n",
       "</table>\n",
       "</div>"
      ],
      "text/plain": [
       "       PM_Dongsihuan\n",
       "16771       0.792546\n",
       "16622      -0.557878\n",
       "1714        0.089043\n",
       "9838       -0.349616\n",
       "8492        0.594521"
      ]
     },
     "execution_count": 121,
     "metadata": {},
     "output_type": "execute_result"
    }
   ],
   "source": [
    "y_train[:5]"
   ]
  },
  {
   "cell_type": "markdown",
   "id": "compliant-doctor",
   "metadata": {},
   "source": [
    "### Probabilistyczne Modele Grafowe"
   ]
  },
  {
   "cell_type": "markdown",
   "id": "liked-dining",
   "metadata": {},
   "source": [
    "W tej części będziemy wnioskować zawartość pyłów w powietrzu na podstawie danych metereologicznych. Zakładamy uproszczony model, że każda z zmiennych jest niezależna od siebie, pomimo, że z korelacji wynika, że są ze sobą związane."
   ]
  },
  {
   "cell_type": "code",
   "execution_count": 137,
   "id": "billion-press",
   "metadata": {},
   "outputs": [
    {
     "data": {
      "image/png": "[encoded data removed]",
      "text/plain": [
       "<Figure size 432x288 with 1 Axes>"
      ]
     },
     "metadata": {},
     "output_type": "display_data"
    }
   ],
   "source": [
    "import networkx as nx\n",
    "    \n",
    "g = nx.DiGraph()\n",
    "g.add_edges_from([(\"PM_Dongsihuan\", \"X_HUMI\"), (\"PM_Dongsihuan\", \"X_Iws\"), (\"PM_Dongsihuan\", \"X_TEMP\"), (\"PM_Dongsihuan\", \"X_month\"), (\"PM_Dongsihuan\", \"X_hour\")])\n",
    "\n",
    "nx.draw(\n",
    "    g, \n",
    "    with_labels=True, \n",
    "    node_color=[\"gray\" if \"X\" in v else \"white\" for v in g.nodes()],\n",
    "    pos={\"PM_Dongsihuan\": (0, 0), \"X_HUMI\": (-2, -1), \"X_Iws\": (-1, -1),\"X_TEMP\": (0, -1), \"X_month\": (1, -1), \"X_hour\": (2, -1)},\n",
    "    edgecolors=\"black\",\n",
    "    node_size=2000,\n",
    ")"
   ]
  },
  {
   "cell_type": "markdown",
   "id": "fewer-feelings",
   "metadata": {
    "slideshow": {
     "slide_type": "slide"
    }
   },
   "source": [
    "## Eksperymenty"
   ]
  },
  {
   "cell_type": "markdown",
   "id": "grave-extension",
   "metadata": {
    "slideshow": {
     "slide_type": "slide"
    }
   },
   "source": [
    "### Zastosowanie prostych modeli probabilistycznych"
   ]
  },
  {
   "cell_type": "markdown",
   "id": "crude-burner",
   "metadata": {
    "slideshow": {
     "slide_type": "slide"
    }
   },
   "source": [
    "### Zastosowanie graficznego modelu probabilistycznego"
   ]
  },
  {
   "cell_type": "markdown",
   "id": "standard-chance",
   "metadata": {
    "slideshow": {
     "slide_type": "slide"
    }
   },
   "source": [
    "### Porównianie wyników wybranych modeli"
   ]
  },
  {
   "cell_type": "markdown",
   "id": "sweet-arrangement",
   "metadata": {
    "slideshow": {
     "slide_type": "slide"
    }
   },
   "source": [
    "## Kody pomocnicze do raportu"
   ]
  },
  {
   "cell_type": "code",
   "execution_count": 19,
   "id": "bound-badge",
   "metadata": {
    "slideshow": {
     "slide_type": "notes"
    }
   },
   "outputs": [],
   "source": [
    "def plot_distribution(dataset, continuous, categorical, rows = None):\n",
    "    \"\"\"Metoda pomocnicza do rysowania wykresów dystrybucji danych.\n",
    "    \n",
    "    Keyword arguments:\n",
    "    dataset -- zbiór danych, którego dystrybucje chcemy narysować\n",
    "    continuous -- lista nazw zmiennych ciągłych zdefiniowanych przez użytkownika\n",
    "    categorical -- lista nazw zmiennych kategorycznych zdefiniowanych przez użytkownika\n",
    "    \"\"\"\n",
    "    \n",
    "    max_rows = math.ceil(len(dataset.columns) / 3)\n",
    "    \n",
    "    assert rows[0] <= rows[1]\n",
    "    \n",
    "    if rows is None:\n",
    "        rows = (0, max_rows)\n",
    "    else:\n",
    "        if rows[0] > max_rows:\n",
    "            return\n",
    "    fig, ax = None, ()\n",
    "    i, row = 0, 0\n",
    "    for col in dataset.columns:\n",
    "        if row >= rows[0] and row < rows[1]:\n",
    "            if i % 3 == 0:\n",
    "                fig, ax = plt.subplots(1, 3, figsize=(20,5))\n",
    "            if col in continuous:\n",
    "                sns.distplot(dataset[col], ax = ax[i % 3]).set_title(\"Dystrybucja zmiennej kategorycznej \" + str(col))\n",
    "            elif col in categorical:\n",
    "                sns.countplot(dataset[col], ax = ax[i % 3]).set_title(\"Dystrybucja zmiennej ciągłej \" + str(col))\n",
    "            i += 1\n",
    "            if i % 3 == 0:\n",
    "                fig.show()\n",
    "                row += 1\n",
    "        else:\n",
    "            i += 1\n",
    "            if i % 3 == 0:\n",
    "                row += 1\n",
    "\n",
    "def plot_outliers(dataset, continuous):\n",
    "    \"\"\"Metoda pomocnicza do rysowania wykresów z obserwacjami odstającymi.\n",
    "    \n",
    "    Keyword arguments:\n",
    "    dataset -- zbiór danych, którego dystrybucje chcemy narysować\n",
    "    continuous -- lista nazw zmiennych ciągłych zdefiniowanych przez użytkownika\n",
    "    \"\"\"\n",
    "    dataset.boxplot(column=continuous, figsize = (15,10))\n",
    "    plt.xticks(rotation = 45)\n",
    "    plt.title(\"Wykres dystrybucji zmiennych z przedstawionymy obserwacjami odstającymi\")\n",
    "    plt.xlabel(\"Cecha zbioru danych\")\n",
    "    plt.ylabel(\"Wartość zmiennej\")\n",
    "    plt.show()"
   ]
  },
  {
   "cell_type": "code",
   "execution_count": 20,
   "id": "official-friendly",
   "metadata": {},
   "outputs": [],
   "source": [
    "from matplotlib.animation import FuncAnimation\n",
    "\n",
    "class UpdateBayesianLinearRegression:\n",
    "    '''Pomocnicza klasa do inkrementalnego uczenia'''\n",
    "    def __init__(\n",
    "        self,\n",
    "        ax,\n",
    "        model,\n",
    "        X_test_with_cat,\n",
    "        y_test,\n",
    "        x_idx,\n",
    "        x_label,\n",
    "        y_label,\n",
    "        category_idx=None,\n",
    "        interval=0.95\n",
    "    ):\n",
    "        self.ax = ax\n",
    "        self.model = model\n",
    "        self.x_idx = x_idx\n",
    "        \n",
    "        self.interval = interval\n",
    "        \n",
    "        self.mean, = ax.plot([], [], color=\"red\", label=\"Mean output\")\n",
    "        self.credible_interval = ax.fill_between(\n",
    "            [],\n",
    "            [],\n",
    "            [],\n",
    "            color='cornflowerblue',\n",
    "            alpha=0.5,\n",
    "            label=f\"Credible Interval\"\n",
    "        )\n",
    "        self.num_samples = ax.text(0.5, 1, '', fontsize=15, horizontalalignment='right',\n",
    "                                   verticalalignment='bottom', transform=ax.transAxes)\n",
    "        self.ratio_in_interval = ax.text(1, 0, '', fontsize=15, horizontalalignment='right',\n",
    "                           verticalalignment='bottom', transform=ax.transAxes)\n",
    "        \n",
    "        if category_idx is not None:\n",
    "            for cat in np.unique(X_test_with_cat[:, category_idx]):\n",
    "                mask = X_test_with_cat[:, category_idx] == cat\n",
    "                self.ax.scatter(\n",
    "                    X_test_with_cat[mask, x_idx], y_test[mask],\n",
    "                    marker='+', s=100,\n",
    "                    alpha=1,\n",
    "                    label=cat\n",
    "                )\n",
    "        else:\n",
    "            self.ax.scatter(\n",
    "                X_test_with_cat[:, x_idx], y_test,\n",
    "                marker='+', s=100,\n",
    "                alpha=1,\n",
    "            )\n",
    "        \n",
    "        # Set up plot parameters\n",
    "        self.ax.set_xlim(\n",
    "            np.min(X_test_with_cat[:, x_idx])-0.2,\n",
    "            np.max(X_test_with_cat[:, x_idx])+0.2\n",
    "        )\n",
    "        self.ax.set_xlabel(x_label)\n",
    "        self.ax.set_ylabel(y_label)\n",
    "        \n",
    "        # Set up legend\n",
    "        handles, labels = self.ax.get_legend_handles_labels()\n",
    "        fig.legend(handles[:2], labels[:2], loc='upper right')\n",
    "        if category_idx is not None:\n",
    "            fig.legend(handles[2:], labels[2:], loc='lower right', title='Category')\n",
    "        \n",
    "    \n",
    "    def model_fit(self, i, X_train, y_train):\n",
    "        self.model.fit(X_train[i-1, :], y_train[i-1])\n",
    "\n",
    "    def __call__(self, i, X_train, y_train, X_test, y_test):\n",
    "        \n",
    "        # This way the plot can continuously run and we just keep\n",
    "        # watching new realizations of the process\n",
    "        if i != 0:\n",
    "            self.model_fit(i, X_train, y_train)\n",
    "\n",
    "        predictive = self.model.predict(X_test)\n",
    "        predictive_mean = predictive.mean()\n",
    "        lower_interval, upper_interval = predictive.interval(self.interval)\n",
    "        ci_ratio = np.sum(\n",
    "            (lower_interval <= y_test) &\n",
    "            (y_test <= upper_interval)\n",
    "        ) / len(y_test)\n",
    "        \n",
    "        self.ax.set_ylim(\n",
    "            min(np.min(lower_interval), np.min(y_test))-0.5,\n",
    "            max(np.max(upper_interval), np.max(y_test))+0.5,\n",
    "        )\n",
    "        \n",
    "        \n",
    "        self.credible_interval.remove()\n",
    "        self.credible_interval = self.ax.fill_between(\n",
    "            X_test[:, self.x_idx],\n",
    "            lower_interval,\n",
    "            upper_interval,\n",
    "            color='cornflowerblue',\n",
    "            alpha=0.5,\n",
    "            label=f\"Credible Interval\"\n",
    "        )\n",
    "        \n",
    "        self.mean.set_data(X_test[:, self.x_idx], predictive_mean)\n",
    "        self.num_samples.set_text(f'Number of train samples: {i}')\n",
    "        self.ratio_in_interval.set_text(f'Percent of observations within CI: {ci_ratio*100:.2f}%')\n",
    "        return self.mean, self.credible_interval, self.num_samples"
   ]
  },
  {
   "cell_type": "code",
   "execution_count": 73,
   "id": "typical-complex",
   "metadata": {},
   "outputs": [],
   "source": [
    "class ConjugateBayesLinReg:\n",
    "\n",
    "    def __init__(self, n_features, alpha, lmbda, intercept=0):\n",
    "        self.n_features = n_features\n",
    "        self.alpha = alpha\n",
    "        self.lmbda = lmbda\n",
    "        self.mean = np.zeros(n_features)\n",
    "        self.cov_inv = np.identity(n_features) / alpha\n",
    "        self.cov = np.linalg.inv(self.cov_inv)\n",
    "        self.intercept = intercept\n",
    "\n",
    "    def fit(self, x, y):\n",
    "        \n",
    "        # If x and y are singletons, then we coerce them to a batch of length 1\n",
    "        x = np.atleast_2d(x)\n",
    "        y = np.atleast_1d(y)\n",
    "\n",
    "        # Update the inverse covariance matrix (Bishop eq. 3.51)\n",
    "        cov_inv = self.cov_inv + self.lmbda * x.T @ x\n",
    "\n",
    "        # Update the mean vector (Bishop eq. 3.50)\n",
    "        cov = np.linalg.inv(cov_inv)\n",
    "        \n",
    "        mean = cov @ (self.cov_inv @ self.mean + self.lmbda * y @ x)\n",
    "\n",
    "        self.cov_inv = cov_inv\n",
    "        self.cov = cov\n",
    "        self.mean = mean\n",
    "\n",
    "\n",
    "    def predict(self, x):\n",
    "        '''Metoda zwraca rozkład predykcyjny zmiennej niezależnej na bazie bieżących parametrów modelu.'''\n",
    "        # If x and y are singletons, then we coerce them to a batch of length 1\n",
    "        x = np.atleast_2d(x)\n",
    "        \n",
    "#         print(x.shape)\n",
    "#         print(1/self.lmbda)\n",
    "#         print(self.cov.shape)\n",
    "#         print((x @ self.cov).shape)\n",
    "#         print((x @ self.cov @ x.T).shape)\n",
    "        # TU WPISZ KOD\n",
    "        y_pred_var = np.diagonal((1/self.lmbda) + x @ self.cov @ x.T)\n",
    "        y_pred_mean = x @ self.mean + self.intercept\n",
    "        \n",
    "        \n",
    "        # Drop a dimension from the mean and variance in case x and y were singletons\n",
    "        y_pred_mean = np.squeeze(y_pred_mean)\n",
    "        y_pred_var = np.squeeze(y_pred_var)\n",
    "\n",
    "        return stats.norm(loc=y_pred_mean, scale=y_pred_var ** .5)\n",
    "\n",
    "    @property\n",
    "    def weights_dist(self):\n",
    "        return stats.multivariate_normal(mean=self.mean, cov=self.cov)"
   ]
  },
  {
   "cell_type": "code",
   "execution_count": 25,
   "id": "infrared-moderator",
   "metadata": {},
   "outputs": [],
   "source": [
    "from scipy import stats\n",
    "\n",
    "class FullConjugateBayesLinReg(ConjugateBayesLinReg):\n",
    "\n",
    "    def __init__(\n",
    "        self,\n",
    "        n_features,\n",
    "        n_iter=300,\n",
    "        tol=1.e-3,\n",
    "        alpha_shape=1.e-6, # non-informative prior \n",
    "        alpha_rate=1.e-6,\n",
    "        lmbda_shape=2, # mode=1 => standard normal posterior\n",
    "        lmbda_rate=1,\n",
    "        alpha_init=None,\n",
    "        lmbda_init=1,\n",
    "        fit_intercept=False\n",
    "    ):\n",
    "        self.n_iter = n_iter\n",
    "        self.tol = tol\n",
    "        self.alpha_shape = alpha_shape\n",
    "        self.alpha_rate = alpha_rate\n",
    "        self.lmbda_shape = lmbda_shape\n",
    "        self.lmbda_rate = lmbda_rate\n",
    "        self.alpha = alpha_init\n",
    "        self.lmbda = lmbda_init\n",
    "        self.fit_intercept = fit_intercept\n",
    "        \n",
    "        self.mean = np.zeros((n_features,))\n",
    "        self.cov = np.eye(n_features) / self.alpha\n",
    "        self.intercept = 0\n",
    "\n",
    "    def fit(self, x, y):\n",
    "        \n",
    "        # If x and y are singletons, then we coerce them to a batch of length 1\n",
    "        x = np.atleast_2d(x)\n",
    "        y = np.atleast_1d(y)\n",
    "\n",
    "        model = BayesianRidge(\n",
    "            n_iter=self.n_iter,\n",
    "            tol=self.tol,\n",
    "            alpha_1=self.lmbda_shape,\n",
    "            alpha_2=self.lmbda_rate,\n",
    "            lambda_1=self.alpha_shape,\n",
    "            lambda_2=self.alpha_rate,\n",
    "            alpha_init=self.lmbda,\n",
    "            lambda_init=self.alpha,\n",
    "            fit_intercept=self.fit_intercept,\n",
    "            normalize=False,\n",
    "        )\n",
    "        \n",
    "        model.fit(x, y)\n",
    "        \n",
    "        self.mean = model.coef_\n",
    "        self.cov = model.sigma_\n",
    "        self.alpha = model.lambda_\n",
    "        self.lmbda = model.alpha_\n",
    "        self.intercept = model.intercept_"
   ]
  },
  {
   "cell_type": "code",
   "execution_count": 27,
   "id": "threaded-verification",
   "metadata": {},
   "outputs": [],
   "source": [
    "class UpdateBayesianLinearRegressionInreasingWindow(UpdateBayesianLinearRegression):\n",
    "    def model_fit(self, i, X_train, y_train):\n",
    "        self.model.fit(X_train[:i, :], y_train[:i])"
   ]
  },
  {
   "cell_type": "code",
   "execution_count": null,
   "id": "frank-azerbaijan",
   "metadata": {},
   "outputs": [],
   "source": []
  }
 ],
 "metadata": {
  "celltoolbar": "Slideshow",
  "kernelspec": {
   "display_name": "Python 3",
   "language": "python",
   "name": "python3"
  },
  "language_info": {
   "codemirror_mode": {
    "name": "ipython",
    "version": 3
   },
   "file_extension": ".py",
   "mimetype": "text/x-python",
   "name": "python",
   "nbconvert_exporter": "python",
   "pygments_lexer": "ipython3",
   "version": "3.8.8"
  }
 },
 "nbformat": 4,
 "nbformat_minor": 5
}
